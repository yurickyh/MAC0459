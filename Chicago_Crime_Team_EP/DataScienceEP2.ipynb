{
 "cells": [
  {
   "cell_type": "markdown",
   "metadata": {},
   "source": [
    "## Indentification of all the members of the group.\n",
    "Name: Kaique Kazuyoshi Komata - 10297741\n",
    "\n",
    "Name: Ricardo Hideki Hangai Kojo - 10295429\n",
    "\n",
    "Name: Yurick Yussuke Honda - 10258984"
   ]
  },
  {
   "cell_type": "markdown",
   "metadata": {},
   "source": [
    "## Name of the dataset\n",
    "Dataset: Chicago Crime"
   ]
  },
  {
   "cell_type": "markdown",
   "metadata": {},
   "source": [
    "## Abstract\n",
    "Abstract of the dataset (describe the dataset with your own words): O dataset apresenta dados reais sobre os crimes reportados em Chicago. Ele oferece diversas informações sobre a localização onde o crime ocorreu e descrições da ocorrência. O tipo de crime é definido primariamente pelos identificadores Illinois Uniform Crime Reporting (IUCR) code e National Incident-Based Reporting System (NIBRS). O fato do dataset ser construído pelo Departamento de Polícia de Chicago, não garante a precisão dos dados. De qualquer forma, o objetivo do dataset é estudar potencias causas de crimes em Chicago, principalmente porque aproximadamente 10 pessoas, em média, são baleadas em Chicago por dia, de acordo com o próprio Departamento de Polícia de Chicago."
   ]
  },
  {
   "cell_type": "markdown",
   "metadata": {},
   "source": [
    "## Questions to the dataset\n",
    "Question 1: Qual o percentual de crimes que resultaram em prisão?\n",
    "\n",
    "Question 2: Em época de Natal a média de crimes reportados em Chicago é diferente do que em outras épocas do ano?\n",
    "\n",
    "Question 3: Qual é o crime mais reportado?\n",
    "\n",
    "Question 4: Qual o ano com maior número de crimes reportados?\n",
    "\n",
    "Question 5: Os crimes que recebem atualização possuem alguma relação com o local do incidente?\n",
    "\n",
    "Question 6: Os crimes com agressão doméstica possuem alguma relação com o local do incidente?\n",
    "\n",
    "Question 7: Qual o local que teve o maior número de crimes reportados?\n",
    "\n",
    "Question 8: Qual o distrito policial com o maior número de incidentes?\n",
    "\n",
    "...\n",
    "\n",
    "Question P:"
   ]
  },
  {
   "cell_type": "markdown",
   "metadata": {},
   "source": [
    "## EDA\n",
    "Present your EDA strategy: O foco é responder as perguntas trabalhadas por cada integrante da equipe. Quando integrantes analisam uma mesma pergunta, é possível comparar as respostas, com seus diversos pontos de vista, e o modo como a análise exploratória foi programada. Quando integrantes analisam perguntas diferentes, é possível obter cada vez mais informações sobre o dataset. A análise exploratória de dados será feita por meio da análise de dados estatísticos e geração de gráficos para auxiliar na visualização da informação. Todas as questões serão divididas pela resolução de cada integrante, quando mais de um integrante a resolveu, e então serão feitas as conclusões."
   ]
  },
  {
   "cell_type": "code",
   "execution_count": 2,
   "metadata": {},
   "outputs": [],
   "source": [
    "import pandas as pd\n",
    "from statistics import mean, median\n",
    "import seaborn as sns\n",
    "import numpy as np\n",
    "import matplotlib.pyplot as plt\n",
    "import csv\n",
    "import math"
   ]
  },
  {
   "cell_type": "code",
   "execution_count": 3,
   "metadata": {},
   "outputs": [
    {
     "name": "stdout",
     "output_type": "stream",
     "text": [
      "<class 'pandas.core.frame.DataFrame'>\n",
      "RangeIndex: 1456714 entries, 0 to 1456713\n",
      "Data columns (total 23 columns):\n",
      "Unnamed: 0              1456714 non-null int64\n",
      "ID                      1456714 non-null int64\n",
      "Case Number             1456713 non-null object\n",
      "Date                    1456714 non-null object\n",
      "Block                   1456714 non-null object\n",
      "IUCR                    1456714 non-null object\n",
      "Primary Type            1456714 non-null object\n",
      "Description             1456714 non-null object\n",
      "Location Description    1455056 non-null object\n",
      "Arrest                  1456714 non-null bool\n",
      "Domestic                1456714 non-null bool\n",
      "Beat                    1456714 non-null int64\n",
      "District                1456713 non-null float64\n",
      "Ward                    1456700 non-null float64\n",
      "Community Area          1456674 non-null float64\n",
      "FBI Code                1456714 non-null object\n",
      "X Coordinate            1419631 non-null float64\n",
      "Y Coordinate            1419631 non-null float64\n",
      "Year                    1456714 non-null int64\n",
      "Updated On              1456714 non-null object\n",
      "Latitude                1419631 non-null float64\n",
      "Longitude               1419631 non-null float64\n",
      "Location                1419631 non-null object\n",
      "dtypes: bool(2), float64(7), int64(4), object(10)\n",
      "memory usage: 236.2+ MB\n"
     ]
    }
   ],
   "source": [
    "crimes = pd.read_csv('Chicago_Crimes_2012_to_2017.csv')\n",
    "crimes.info()"
   ]
  },
  {
   "cell_type": "code",
   "execution_count": 6,
   "metadata": {},
   "outputs": [
    {
     "data": {
      "text/html": [
       "<div>\n",
       "<style scoped>\n",
       "    .dataframe tbody tr th:only-of-type {\n",
       "        vertical-align: middle;\n",
       "    }\n",
       "\n",
       "    .dataframe tbody tr th {\n",
       "        vertical-align: top;\n",
       "    }\n",
       "\n",
       "    .dataframe thead th {\n",
       "        text-align: right;\n",
       "    }\n",
       "</style>\n",
       "<table border=\"1\" class=\"dataframe\">\n",
       "  <thead>\n",
       "    <tr style=\"text-align: right;\">\n",
       "      <th></th>\n",
       "      <th>Unnamed: 0</th>\n",
       "      <th>ID</th>\n",
       "      <th>Case Number</th>\n",
       "      <th>Date</th>\n",
       "      <th>Block</th>\n",
       "      <th>IUCR</th>\n",
       "      <th>Primary Type</th>\n",
       "      <th>Description</th>\n",
       "      <th>Location Description</th>\n",
       "      <th>Arrest</th>\n",
       "      <th>...</th>\n",
       "      <th>Ward</th>\n",
       "      <th>Community Area</th>\n",
       "      <th>FBI Code</th>\n",
       "      <th>X Coordinate</th>\n",
       "      <th>Y Coordinate</th>\n",
       "      <th>Year</th>\n",
       "      <th>Updated On</th>\n",
       "      <th>Latitude</th>\n",
       "      <th>Longitude</th>\n",
       "      <th>Location</th>\n",
       "    </tr>\n",
       "  </thead>\n",
       "  <tbody>\n",
       "    <tr>\n",
       "      <td>0</td>\n",
       "      <td>3</td>\n",
       "      <td>10508693</td>\n",
       "      <td>HZ250496</td>\n",
       "      <td>05/03/2016 11:40:00 PM</td>\n",
       "      <td>013XX S SAWYER AVE</td>\n",
       "      <td>0486</td>\n",
       "      <td>BATTERY</td>\n",
       "      <td>DOMESTIC BATTERY SIMPLE</td>\n",
       "      <td>APARTMENT</td>\n",
       "      <td>True</td>\n",
       "      <td>...</td>\n",
       "      <td>24.0</td>\n",
       "      <td>29.0</td>\n",
       "      <td>08B</td>\n",
       "      <td>1154907.0</td>\n",
       "      <td>1893681.0</td>\n",
       "      <td>2016</td>\n",
       "      <td>05/10/2016 03:56:50 PM</td>\n",
       "      <td>41.864073</td>\n",
       "      <td>-87.706819</td>\n",
       "      <td>(41.864073157, -87.706818608)</td>\n",
       "    </tr>\n",
       "    <tr>\n",
       "      <td>1</td>\n",
       "      <td>89</td>\n",
       "      <td>10508695</td>\n",
       "      <td>HZ250409</td>\n",
       "      <td>05/03/2016 09:40:00 PM</td>\n",
       "      <td>061XX S DREXEL AVE</td>\n",
       "      <td>0486</td>\n",
       "      <td>BATTERY</td>\n",
       "      <td>DOMESTIC BATTERY SIMPLE</td>\n",
       "      <td>RESIDENCE</td>\n",
       "      <td>False</td>\n",
       "      <td>...</td>\n",
       "      <td>20.0</td>\n",
       "      <td>42.0</td>\n",
       "      <td>08B</td>\n",
       "      <td>1183066.0</td>\n",
       "      <td>1864330.0</td>\n",
       "      <td>2016</td>\n",
       "      <td>05/10/2016 03:56:50 PM</td>\n",
       "      <td>41.782922</td>\n",
       "      <td>-87.604363</td>\n",
       "      <td>(41.782921527, -87.60436317)</td>\n",
       "    </tr>\n",
       "    <tr>\n",
       "      <td>2</td>\n",
       "      <td>197</td>\n",
       "      <td>10508697</td>\n",
       "      <td>HZ250503</td>\n",
       "      <td>05/03/2016 11:31:00 PM</td>\n",
       "      <td>053XX W CHICAGO AVE</td>\n",
       "      <td>0470</td>\n",
       "      <td>PUBLIC PEACE VIOLATION</td>\n",
       "      <td>RECKLESS CONDUCT</td>\n",
       "      <td>STREET</td>\n",
       "      <td>False</td>\n",
       "      <td>...</td>\n",
       "      <td>37.0</td>\n",
       "      <td>25.0</td>\n",
       "      <td>24</td>\n",
       "      <td>1140789.0</td>\n",
       "      <td>1904819.0</td>\n",
       "      <td>2016</td>\n",
       "      <td>05/10/2016 03:56:50 PM</td>\n",
       "      <td>41.894908</td>\n",
       "      <td>-87.758372</td>\n",
       "      <td>(41.894908283, -87.758371958)</td>\n",
       "    </tr>\n",
       "    <tr>\n",
       "      <td>3</td>\n",
       "      <td>673</td>\n",
       "      <td>10508698</td>\n",
       "      <td>HZ250424</td>\n",
       "      <td>05/03/2016 10:10:00 PM</td>\n",
       "      <td>049XX W FULTON ST</td>\n",
       "      <td>0460</td>\n",
       "      <td>BATTERY</td>\n",
       "      <td>SIMPLE</td>\n",
       "      <td>SIDEWALK</td>\n",
       "      <td>False</td>\n",
       "      <td>...</td>\n",
       "      <td>28.0</td>\n",
       "      <td>25.0</td>\n",
       "      <td>08B</td>\n",
       "      <td>1143223.0</td>\n",
       "      <td>1901475.0</td>\n",
       "      <td>2016</td>\n",
       "      <td>05/10/2016 03:56:50 PM</td>\n",
       "      <td>41.885687</td>\n",
       "      <td>-87.749516</td>\n",
       "      <td>(41.885686845, -87.749515983)</td>\n",
       "    </tr>\n",
       "    <tr>\n",
       "      <td>4</td>\n",
       "      <td>911</td>\n",
       "      <td>10508699</td>\n",
       "      <td>HZ250455</td>\n",
       "      <td>05/03/2016 10:00:00 PM</td>\n",
       "      <td>003XX N LOTUS AVE</td>\n",
       "      <td>0820</td>\n",
       "      <td>THEFT</td>\n",
       "      <td>$500 AND UNDER</td>\n",
       "      <td>RESIDENCE</td>\n",
       "      <td>False</td>\n",
       "      <td>...</td>\n",
       "      <td>28.0</td>\n",
       "      <td>25.0</td>\n",
       "      <td>06</td>\n",
       "      <td>1139890.0</td>\n",
       "      <td>1901675.0</td>\n",
       "      <td>2016</td>\n",
       "      <td>05/10/2016 03:56:50 PM</td>\n",
       "      <td>41.886297</td>\n",
       "      <td>-87.761751</td>\n",
       "      <td>(41.886297242, -87.761750709)</td>\n",
       "    </tr>\n",
       "  </tbody>\n",
       "</table>\n",
       "<p>5 rows × 23 columns</p>\n",
       "</div>"
      ],
      "text/plain": [
       "   Unnamed: 0        ID Case Number                    Date  \\\n",
       "0           3  10508693    HZ250496  05/03/2016 11:40:00 PM   \n",
       "1          89  10508695    HZ250409  05/03/2016 09:40:00 PM   \n",
       "2         197  10508697    HZ250503  05/03/2016 11:31:00 PM   \n",
       "3         673  10508698    HZ250424  05/03/2016 10:10:00 PM   \n",
       "4         911  10508699    HZ250455  05/03/2016 10:00:00 PM   \n",
       "\n",
       "                 Block  IUCR            Primary Type              Description  \\\n",
       "0   013XX S SAWYER AVE  0486                 BATTERY  DOMESTIC BATTERY SIMPLE   \n",
       "1   061XX S DREXEL AVE  0486                 BATTERY  DOMESTIC BATTERY SIMPLE   \n",
       "2  053XX W CHICAGO AVE  0470  PUBLIC PEACE VIOLATION         RECKLESS CONDUCT   \n",
       "3    049XX W FULTON ST  0460                 BATTERY                   SIMPLE   \n",
       "4    003XX N LOTUS AVE  0820                   THEFT           $500 AND UNDER   \n",
       "\n",
       "  Location Description  Arrest  ...  Ward  Community Area  FBI Code  \\\n",
       "0            APARTMENT    True  ...  24.0            29.0       08B   \n",
       "1            RESIDENCE   False  ...  20.0            42.0       08B   \n",
       "2               STREET   False  ...  37.0            25.0        24   \n",
       "3             SIDEWALK   False  ...  28.0            25.0       08B   \n",
       "4            RESIDENCE   False  ...  28.0            25.0        06   \n",
       "\n",
       "   X Coordinate  Y Coordinate  Year              Updated On   Latitude  \\\n",
       "0     1154907.0     1893681.0  2016  05/10/2016 03:56:50 PM  41.864073   \n",
       "1     1183066.0     1864330.0  2016  05/10/2016 03:56:50 PM  41.782922   \n",
       "2     1140789.0     1904819.0  2016  05/10/2016 03:56:50 PM  41.894908   \n",
       "3     1143223.0     1901475.0  2016  05/10/2016 03:56:50 PM  41.885687   \n",
       "4     1139890.0     1901675.0  2016  05/10/2016 03:56:50 PM  41.886297   \n",
       "\n",
       "   Longitude                       Location  \n",
       "0 -87.706819  (41.864073157, -87.706818608)  \n",
       "1 -87.604363   (41.782921527, -87.60436317)  \n",
       "2 -87.758372  (41.894908283, -87.758371958)  \n",
       "3 -87.749516  (41.885686845, -87.749515983)  \n",
       "4 -87.761751  (41.886297242, -87.761750709)  \n",
       "\n",
       "[5 rows x 23 columns]"
      ]
     },
     "execution_count": 6,
     "metadata": {},
     "output_type": "execute_result"
    }
   ],
   "source": [
    "crimes.head()"
   ]
  },
  {
   "cell_type": "code",
   "execution_count": 7,
   "metadata": {},
   "outputs": [
    {
     "data": {
      "text/html": [
       "<div>\n",
       "<style scoped>\n",
       "    .dataframe tbody tr th:only-of-type {\n",
       "        vertical-align: middle;\n",
       "    }\n",
       "\n",
       "    .dataframe tbody tr th {\n",
       "        vertical-align: top;\n",
       "    }\n",
       "\n",
       "    .dataframe thead th {\n",
       "        text-align: right;\n",
       "    }\n",
       "</style>\n",
       "<table border=\"1\" class=\"dataframe\">\n",
       "  <thead>\n",
       "    <tr style=\"text-align: right;\">\n",
       "      <th></th>\n",
       "      <th>Unnamed: 0</th>\n",
       "      <th>ID</th>\n",
       "      <th>Case Number</th>\n",
       "      <th>Date</th>\n",
       "      <th>Block</th>\n",
       "      <th>IUCR</th>\n",
       "      <th>Primary Type</th>\n",
       "      <th>Description</th>\n",
       "      <th>Location Description</th>\n",
       "      <th>Arrest</th>\n",
       "      <th>...</th>\n",
       "      <th>Ward</th>\n",
       "      <th>Community Area</th>\n",
       "      <th>FBI Code</th>\n",
       "      <th>X Coordinate</th>\n",
       "      <th>Y Coordinate</th>\n",
       "      <th>Year</th>\n",
       "      <th>Updated On</th>\n",
       "      <th>Latitude</th>\n",
       "      <th>Longitude</th>\n",
       "      <th>Location</th>\n",
       "    </tr>\n",
       "  </thead>\n",
       "  <tbody>\n",
       "    <tr>\n",
       "      <td>1456709</td>\n",
       "      <td>6250330</td>\n",
       "      <td>10508679</td>\n",
       "      <td>HZ250507</td>\n",
       "      <td>05/03/2016 11:33:00 PM</td>\n",
       "      <td>026XX W 23RD PL</td>\n",
       "      <td>0486</td>\n",
       "      <td>BATTERY</td>\n",
       "      <td>DOMESTIC BATTERY SIMPLE</td>\n",
       "      <td>APARTMENT</td>\n",
       "      <td>True</td>\n",
       "      <td>...</td>\n",
       "      <td>28.0</td>\n",
       "      <td>30.0</td>\n",
       "      <td>08B</td>\n",
       "      <td>1159105.0</td>\n",
       "      <td>1888300.0</td>\n",
       "      <td>2016</td>\n",
       "      <td>05/10/2016 03:56:50 PM</td>\n",
       "      <td>41.849222</td>\n",
       "      <td>-87.691556</td>\n",
       "      <td>(41.849222028, -87.69155551)</td>\n",
       "    </tr>\n",
       "    <tr>\n",
       "      <td>1456710</td>\n",
       "      <td>6251089</td>\n",
       "      <td>10508680</td>\n",
       "      <td>HZ250491</td>\n",
       "      <td>05/03/2016 11:30:00 PM</td>\n",
       "      <td>073XX S HARVARD AVE</td>\n",
       "      <td>1310</td>\n",
       "      <td>CRIMINAL DAMAGE</td>\n",
       "      <td>TO PROPERTY</td>\n",
       "      <td>APARTMENT</td>\n",
       "      <td>True</td>\n",
       "      <td>...</td>\n",
       "      <td>17.0</td>\n",
       "      <td>69.0</td>\n",
       "      <td>14</td>\n",
       "      <td>1175230.0</td>\n",
       "      <td>1856183.0</td>\n",
       "      <td>2016</td>\n",
       "      <td>05/10/2016 03:56:50 PM</td>\n",
       "      <td>41.760744</td>\n",
       "      <td>-87.633335</td>\n",
       "      <td>(41.760743949, -87.63333531)</td>\n",
       "    </tr>\n",
       "    <tr>\n",
       "      <td>1456711</td>\n",
       "      <td>6251349</td>\n",
       "      <td>10508681</td>\n",
       "      <td>HZ250479</td>\n",
       "      <td>05/03/2016 12:15:00 AM</td>\n",
       "      <td>024XX W 63RD ST</td>\n",
       "      <td>041A</td>\n",
       "      <td>BATTERY</td>\n",
       "      <td>AGGRAVATED: HANDGUN</td>\n",
       "      <td>SIDEWALK</td>\n",
       "      <td>False</td>\n",
       "      <td>...</td>\n",
       "      <td>15.0</td>\n",
       "      <td>66.0</td>\n",
       "      <td>04B</td>\n",
       "      <td>1161027.0</td>\n",
       "      <td>1862810.0</td>\n",
       "      <td>2016</td>\n",
       "      <td>05/10/2016 03:56:50 PM</td>\n",
       "      <td>41.779235</td>\n",
       "      <td>-87.685207</td>\n",
       "      <td>(41.779234743, -87.685207125)</td>\n",
       "    </tr>\n",
       "    <tr>\n",
       "      <td>1456712</td>\n",
       "      <td>6253257</td>\n",
       "      <td>10508690</td>\n",
       "      <td>HZ250370</td>\n",
       "      <td>05/03/2016 09:07:00 PM</td>\n",
       "      <td>082XX S EXCHANGE AVE</td>\n",
       "      <td>0486</td>\n",
       "      <td>BATTERY</td>\n",
       "      <td>DOMESTIC BATTERY SIMPLE</td>\n",
       "      <td>SIDEWALK</td>\n",
       "      <td>False</td>\n",
       "      <td>...</td>\n",
       "      <td>7.0</td>\n",
       "      <td>46.0</td>\n",
       "      <td>08B</td>\n",
       "      <td>1197261.0</td>\n",
       "      <td>1850727.0</td>\n",
       "      <td>2016</td>\n",
       "      <td>05/10/2016 03:56:50 PM</td>\n",
       "      <td>41.745252</td>\n",
       "      <td>-87.552773</td>\n",
       "      <td>(41.745251975, -87.552773464)</td>\n",
       "    </tr>\n",
       "    <tr>\n",
       "      <td>1456713</td>\n",
       "      <td>6253474</td>\n",
       "      <td>10508692</td>\n",
       "      <td>HZ250517</td>\n",
       "      <td>05/03/2016 11:38:00 PM</td>\n",
       "      <td>001XX E 75TH ST</td>\n",
       "      <td>5007</td>\n",
       "      <td>OTHER OFFENSE</td>\n",
       "      <td>OTHER WEAPONS VIOLATION</td>\n",
       "      <td>PARKING LOT/GARAGE(NON.RESID.)</td>\n",
       "      <td>True</td>\n",
       "      <td>...</td>\n",
       "      <td>6.0</td>\n",
       "      <td>69.0</td>\n",
       "      <td>26</td>\n",
       "      <td>1178696.0</td>\n",
       "      <td>1855324.0</td>\n",
       "      <td>2016</td>\n",
       "      <td>05/10/2016 03:56:50 PM</td>\n",
       "      <td>41.758309</td>\n",
       "      <td>-87.620658</td>\n",
       "      <td>(41.75830866, -87.620658418)</td>\n",
       "    </tr>\n",
       "  </tbody>\n",
       "</table>\n",
       "<p>5 rows × 23 columns</p>\n",
       "</div>"
      ],
      "text/plain": [
       "         Unnamed: 0        ID Case Number                    Date  \\\n",
       "1456709     6250330  10508679    HZ250507  05/03/2016 11:33:00 PM   \n",
       "1456710     6251089  10508680    HZ250491  05/03/2016 11:30:00 PM   \n",
       "1456711     6251349  10508681    HZ250479  05/03/2016 12:15:00 AM   \n",
       "1456712     6253257  10508690    HZ250370  05/03/2016 09:07:00 PM   \n",
       "1456713     6253474  10508692    HZ250517  05/03/2016 11:38:00 PM   \n",
       "\n",
       "                        Block  IUCR     Primary Type              Description  \\\n",
       "1456709       026XX W 23RD PL  0486          BATTERY  DOMESTIC BATTERY SIMPLE   \n",
       "1456710   073XX S HARVARD AVE  1310  CRIMINAL DAMAGE              TO PROPERTY   \n",
       "1456711       024XX W 63RD ST  041A          BATTERY      AGGRAVATED: HANDGUN   \n",
       "1456712  082XX S EXCHANGE AVE  0486          BATTERY  DOMESTIC BATTERY SIMPLE   \n",
       "1456713       001XX E 75TH ST  5007    OTHER OFFENSE  OTHER WEAPONS VIOLATION   \n",
       "\n",
       "                   Location Description  Arrest  ...  Ward  Community Area  \\\n",
       "1456709                       APARTMENT    True  ...  28.0            30.0   \n",
       "1456710                       APARTMENT    True  ...  17.0            69.0   \n",
       "1456711                        SIDEWALK   False  ...  15.0            66.0   \n",
       "1456712                        SIDEWALK   False  ...   7.0            46.0   \n",
       "1456713  PARKING LOT/GARAGE(NON.RESID.)    True  ...   6.0            69.0   \n",
       "\n",
       "         FBI Code  X Coordinate  Y Coordinate  Year              Updated On  \\\n",
       "1456709       08B     1159105.0     1888300.0  2016  05/10/2016 03:56:50 PM   \n",
       "1456710        14     1175230.0     1856183.0  2016  05/10/2016 03:56:50 PM   \n",
       "1456711       04B     1161027.0     1862810.0  2016  05/10/2016 03:56:50 PM   \n",
       "1456712       08B     1197261.0     1850727.0  2016  05/10/2016 03:56:50 PM   \n",
       "1456713        26     1178696.0     1855324.0  2016  05/10/2016 03:56:50 PM   \n",
       "\n",
       "          Latitude  Longitude                       Location  \n",
       "1456709  41.849222 -87.691556   (41.849222028, -87.69155551)  \n",
       "1456710  41.760744 -87.633335   (41.760743949, -87.63333531)  \n",
       "1456711  41.779235 -87.685207  (41.779234743, -87.685207125)  \n",
       "1456712  41.745252 -87.552773  (41.745251975, -87.552773464)  \n",
       "1456713  41.758309 -87.620658   (41.75830866, -87.620658418)  \n",
       "\n",
       "[5 rows x 23 columns]"
      ]
     },
     "execution_count": 7,
     "metadata": {},
     "output_type": "execute_result"
    }
   ],
   "source": [
    "crimes.tail()"
   ]
  },
  {
   "cell_type": "markdown",
   "metadata": {},
   "source": [
    "## Questão 1\n",
    "\n",
    "### Resolução Yurick\n",
    "\n",
    "A resolução consistiu em agrupar os valores da coluna 'Arrest' e contá-los. Depois disso, calcular o percentual de valores 'True', uma vez que esse campo assume apenas valores 'True'/'False'. Verificando que apenas uma pequena quantidade de ocorrências, pouco mais de um quarto do dataset, resultaram em apreensão de algum indivíduo. Por fim, para uma melhor visualização da dimensão da diferença entre os valores, foi plotado um gráfico de barra e outro de setores. A partir deles, a conclusão, dessa vez de forma visual, fica mais clara."
   ]
  },
  {
   "cell_type": "code",
   "execution_count": 7,
   "metadata": {},
   "outputs": [
    {
     "data": {
      "text/plain": [
       "25.91256760077819"
      ]
     },
     "execution_count": 7,
     "metadata": {},
     "output_type": "execute_result"
    }
   ],
   "source": [
    "series_describe = crimes['Arrest'].value_counts()\n",
    "# Calculate the FALSE values\n",
    "false_values = series_describe.get(False)\n",
    "# Calculate the TRUE values\n",
    "true_values = series_describe.get(True)\n",
    "# Calculate the percentage\n",
    "100.0*true_values/(false_values+true_values)"
   ]
  },
  {
   "cell_type": "code",
   "execution_count": 8,
   "metadata": {},
   "outputs": [
    {
     "data": {
      "text/plain": [
       "<BarContainer object of 2 artists>"
      ]
     },
     "execution_count": 8,
     "metadata": {},
     "output_type": "execute_result"
    },
    {
     "data": {
      "image/png": "[encoded data removed]",
      "text/plain": [
       "<Figure size 432x288 with 1 Axes>"
      ]
     },
     "metadata": {
      "needs_background": "light"
     },
     "output_type": "display_data"
    }
   ],
   "source": [
    "# Plot bar based on calc values\n",
    "plt.bar(['False', 'True'], [false_values, true_values])"
   ]
  },
  {
   "cell_type": "code",
   "execution_count": 9,
   "metadata": {},
   "outputs": [
    {
     "data": {
      "text/plain": [
       "([<matplotlib.patches.Wedge at 0x7fb45e811b10>,\n",
       "  <matplotlib.patches.Wedge at 0x7fb45e81d050>],\n",
       " [Text(-0.755202,0.799794,'False'), Text(0.755202,-0.799794,'True')])"
      ]
     },
     "execution_count": 9,
     "metadata": {},
     "output_type": "execute_result"
    },
    {
     "data": {
      "image/png": "[encoded data removed]",
      "text/plain": [
       "<Figure size 432x288 with 1 Axes>"
      ]
     },
     "metadata": {},
     "output_type": "display_data"
    }
   ],
   "source": [
    "# Plot bar based on calc values\n",
    "plt.pie([false_values, true_values], labels=['False', 'True'])"
   ]
  },
  {
   "cell_type": "markdown",
   "metadata": {},
   "source": [
    "### Resolução Kaique\n",
    "\n",
    "A aproximação tomada em relação à questão foi um pouco diferente da anterior, no modo em que, além de recuperar a porcentagem de crimes que resultaram em prisões, foi também analisado a porcentagem desses crimes que tinham cunho doméstico.<br>\n",
    "Primeiramente foi feito um agrupamento dos registros que contém a coluna \"Arrest\" com o valor True. Após isso, foi feita uma contagem do total de registros que foram agrupados e do total de registros do conjunto de dados para depois relacionar ambos os valores para encontrar a porcentagem. Os registros que possuem o valor da coluna \"Domestic\" como True também foram agrupados e depois mesclados com o grupo de registros anteriormente extraídos para recuperar a porcentagem dos crimes que resultaram em uma prisão que possuem cunho doméstico.<br>\n",
    "O resultado obtido mostra que um quarto dos incidentes registrados resultaram em alguma prisão e que, desses incidentes, mais de um décimo possui cunho doméstico, o que representa relativamente uma grande parte do total."
   ]
  },
  {
   "cell_type": "code",
   "execution_count": 5,
   "metadata": {},
   "outputs": [
    {
     "name": "stdout",
     "output_type": "stream",
     "text": [
      "Porcentagem de crimes que resultaram em prisão: 25.91257%\n"
     ]
    }
   ],
   "source": [
    "total = crimes['ID'].count()\n",
    "arrest = crimes[crimes['Arrest'] == True]\n",
    "total_arrest = arrest['ID'].count()\n",
    "print ('Porcentagem de crimes que resultaram em prisão: {:.5%}'.format(total_arrest/total))"
   ]
  },
  {
   "cell_type": "code",
   "execution_count": 10,
   "metadata": {},
   "outputs": [
    {
     "name": "stdout",
     "output_type": "stream",
     "text": [
      "Porcentagem dos crimes com prisão que tem cunho doméstico: 11.31210%\n"
     ]
    }
   ],
   "source": [
    "domestic = crimes[crimes['Domestic'] == True]\n",
    "intersection = pd.merge(domestic, arrest, how='inner', on='ID')\n",
    "total_inter = intersection['ID'].count()\n",
    "print ('Porcentagem dos crimes com prisão que tem cunho doméstico: {:.5%}'.format(total_inter/total_arrest))"
   ]
  },
  {
   "cell_type": "markdown",
   "metadata": {},
   "source": [
    "### Resolução Ricardo\n",
    "\n",
    "De forma simples e direta, a porcentagem de crimes que resultam em prisão é de **25.9126 %**. É possível chegar a isso usando apenas a função de contagem, com a opção de normalizar.\n",
    "\n",
    "Explorando mais a questão, é possível agrupar os valores por ano e verificar como foi a evolução de crimes com/sem prisão durante o intervalo de 2012 à 2017, sendo que os dados de 2017 incluem apenas o início do ano.\n",
    "\n",
    "Por fim, foi criado um gráfico de barras mostrando a quantidade de crimes com/sem prisão por ano. Neste gráfico, é possível verificar que a quantidade absoluta de crimes com prisão diminuiu com o passar dos anos. No entanto, a porcentagem se manteve estável de 2012 a 2015, e caiu drasticamente em 2016."
   ]
  },
  {
   "cell_type": "code",
   "execution_count": 8,
   "metadata": {},
   "outputs": [
    {
     "data": {
      "text/plain": [
       "False    1079242\n",
       "True      377472\n",
       "Name: Arrest, dtype: int64"
      ]
     },
     "execution_count": 8,
     "metadata": {},
     "output_type": "execute_result"
    }
   ],
   "source": [
    "crimes['Arrest'].value_counts()"
   ]
  },
  {
   "cell_type": "code",
   "execution_count": 9,
   "metadata": {},
   "outputs": [
    {
     "data": {
      "text/plain": [
       "False    0.740874\n",
       "True     0.259126\n",
       "Name: Arrest, dtype: float64"
      ]
     },
     "execution_count": 9,
     "metadata": {},
     "output_type": "execute_result"
    }
   ],
   "source": [
    "crimes['Arrest'].value_counts(normalize=True)"
   ]
  },
  {
   "cell_type": "code",
   "execution_count": 10,
   "metadata": {},
   "outputs": [
    {
     "data": {
      "text/plain": [
       "Year  Arrest\n",
       "2012  False     245159\n",
       "      True       90511\n",
       "2013  False     220484\n",
       "      True       86219\n",
       "2014  False     195470\n",
       "      True       79057\n",
       "2015  False     193598\n",
       "      True       69397\n",
       "2016  False     215076\n",
       "      True       50386\n",
       "2017  False       9455\n",
       "      True        1902\n",
       "Name: Arrest, dtype: int64"
      ]
     },
     "execution_count": 10,
     "metadata": {},
     "output_type": "execute_result"
    }
   ],
   "source": [
    "crimes.groupby('Year')['Arrest'].value_counts()"
   ]
  },
  {
   "cell_type": "code",
   "execution_count": 11,
   "metadata": {},
   "outputs": [
    {
     "data": {
      "text/plain": [
       "Year  Arrest\n",
       "2012  False     0.730357\n",
       "      True      0.269643\n",
       "2013  False     0.718884\n",
       "      True      0.281116\n",
       "2014  False     0.712025\n",
       "      True      0.287975\n",
       "2015  False     0.736128\n",
       "      True      0.263872\n",
       "2016  False     0.810195\n",
       "      True      0.189805\n",
       "2017  False     0.832526\n",
       "      True      0.167474\n",
       "Name: Arrest, dtype: float64"
      ]
     },
     "execution_count": 11,
     "metadata": {},
     "output_type": "execute_result"
    }
   ],
   "source": [
    "crimes.groupby('Year')['Arrest'].value_counts(normalize=True)"
   ]
  },
  {
   "cell_type": "code",
   "execution_count": 17,
   "metadata": {},
   "outputs": [
    {
     "data": {
      "text/plain": [
       "count        6.00000\n",
       "mean     62912.00000\n",
       "std      33126.29794\n",
       "min       1902.00000\n",
       "25%      55138.75000\n",
       "50%      74227.00000\n",
       "75%      84428.50000\n",
       "max      90511.00000\n",
       "Name: Arrest, dtype: float64"
      ]
     },
     "execution_count": 17,
     "metadata": {},
     "output_type": "execute_result"
    }
   ],
   "source": [
    "crimes_with_arrest = crimes.query('Arrest').groupby('Year')\n",
    "crimes_with_arrest[\"Arrest\"].value_counts().describe()"
   ]
  },
  {
   "cell_type": "code",
   "execution_count": 18,
   "metadata": {},
   "outputs": [
    {
     "data": {
      "text/plain": [
       "count         6.000000\n",
       "mean     179873.666667\n",
       "std       85585.866919\n",
       "min        9455.000000\n",
       "25%      194066.000000\n",
       "50%      205273.000000\n",
       "75%      219132.000000\n",
       "max      245159.000000\n",
       "Name: Arrest, dtype: float64"
      ]
     },
     "execution_count": 18,
     "metadata": {},
     "output_type": "execute_result"
    }
   ],
   "source": [
    "crimes_without_arrest = crimes.query('not Arrest').groupby('Year')\n",
    "crimes_without_arrest[\"Arrest\"].value_counts().describe()"
   ]
  },
  {
   "cell_type": "code",
   "execution_count": 20,
   "metadata": {},
   "outputs": [
    {
     "data": {
      "text/plain": [
       "<matplotlib.axes._subplots.AxesSubplot at 0x7f8cb3919dd0>"
      ]
     },
     "execution_count": 20,
     "metadata": {},
     "output_type": "execute_result"
    },
    {
     "data": {
      "image/png": "[encoded data removed]",
      "text/plain": [
       "<Figure size 720x720 with 1 Axes>"
      ]
     },
     "metadata": {
      "needs_background": "light"
     },
     "output_type": "display_data"
    }
   ],
   "source": [
    "arrest_count = crimes_with_arrest[\"Arrest\"].value_counts()\n",
    "no_arrest_count = crimes_without_arrest[\"Arrest\"].value_counts()\n",
    "arrest_df = pd.DataFrame({'Arrest': arrest_count.values, 'No arrest': no_arrest_count.values}, index=[i for i in range(2012, 2018)])\n",
    "arrest_df.plot.bar(figsize=(10,10))"
   ]
  },
  {
   "cell_type": "markdown",
   "metadata": {},
   "source": [
    "## Questão 2"
   ]
  },
  {
   "cell_type": "markdown",
   "metadata": {},
   "source": [
    "### Resolução Yurick\n",
    "\n",
    "O primeiro passo foi converter os valores do campo 'Date' para o time Datetime do Pandas. Depois disso, houve o cálculo da quantidade de ocorrências por mês, para qualquer ano. Essa primeira abordagem, considera que o período de Natal é o mês de dezembro. É possível verificar que no mês de dezembro não há aumento na quantidade de crimes, pelo contrário, possui até menor quantidade de ocorrências do que a média (121392.83333333333). Uma forma de visualizar isso é pelo gráfico de barras, onde é possível comparar melhor o mês de dezembro com os restantes. Além disso, outro recurso que facilita é o boxplot, em que é possível verificar que a quantidade de crimes do mês de dezembro se localiza entre o limite inferior e o primeiro quartil do boxplot.\n",
    "\n",
    "Outra abordagem realizada é considerar que o período de Natal se situa entre os dias 23 e 31 do mês de dezembro, fazendo então a comparação com o mesmo período de outros meses. Nesse último caso, foi plotado um gráfico de setores, onde não é possível verificar nenhum aumento na quantidade de ocorrências no período de Natal."
   ]
  },
  {
   "cell_type": "code",
   "execution_count": 14,
   "metadata": {},
   "outputs": [
    {
     "name": "stdout",
     "output_type": "stream",
     "text": [
      "121392.83333333333\n",
      "1     123809\n",
      "2      98073\n",
      "3     119010\n",
      "4     118064\n",
      "5     129735\n",
      "6     130575\n",
      "7     135762\n",
      "8     133738\n",
      "9     124067\n",
      "10    123571\n",
      "11    111834\n",
      "12    108476\n",
      "Name: Date, dtype: int64\n"
     ]
    }
   ],
   "source": [
    "crimes[\"Date\"] = pd.to_datetime(crimes[\"Date\"])\n",
    "# Calculate the crimes occurred on each month\n",
    "crimes_by_month = crimes[\"Date\"].dt.month.value_counts()\n",
    "print(crimes_by_month.mean())\n",
    "# Sort the series\n",
    "print(crimes_by_month.sort_index())"
   ]
  },
  {
   "cell_type": "code",
   "execution_count": 11,
   "metadata": {},
   "outputs": [
    {
     "data": {
      "text/plain": [
       "<BarContainer object of 12 artists>"
      ]
     },
     "execution_count": 11,
     "metadata": {},
     "output_type": "execute_result"
    },
    {
     "data": {
      "image/png": "[encoded data removed]",
      "text/plain": [
       "<Figure size 432x288 with 1 Axes>"
      ]
     },
     "metadata": {
      "needs_background": "light"
     },
     "output_type": "display_data"
    }
   ],
   "source": [
    "# Plot a bar with the number of crimes on each month\n",
    "plt.bar(crimes_by_month.index, crimes_by_month.values)"
   ]
  },
  {
   "cell_type": "code",
   "execution_count": 12,
   "metadata": {},
   "outputs": [
    {
     "data": {
      "text/plain": [
       "<matplotlib.axes._subplots.AxesSubplot at 0x7fb4503d5750>"
      ]
     },
     "execution_count": 12,
     "metadata": {},
     "output_type": "execute_result"
    },
    {
     "data": {
      "image/png": "[encoded data removed]",
      "text/plain": [
       "<Figure size 432x288 with 1 Axes>"
      ]
     },
     "metadata": {
      "needs_background": "light"
     },
     "output_type": "display_data"
    }
   ],
   "source": [
    "# Plot a boxplot with the number of crimes on each month\n",
    "crimes_by_month.plot.box()"
   ]
  },
  {
   "cell_type": "code",
   "execution_count": 13,
   "metadata": {},
   "outputs": [
    {
     "data": {
      "text/plain": [
       "([<matplotlib.patches.Wedge at 0x7fb457ce0190>,\n",
       "  <matplotlib.patches.Wedge at 0x7fb457ef0810>,\n",
       "  <matplotlib.patches.Wedge at 0x7fb45846cdd0>,\n",
       "  <matplotlib.patches.Wedge at 0x7fb4588f6810>,\n",
       "  <matplotlib.patches.Wedge at 0x7fb458be7550>,\n",
       "  <matplotlib.patches.Wedge at 0x7fb458e03e10>,\n",
       "  <matplotlib.patches.Wedge at 0x7fb4590ed750>,\n",
       "  <matplotlib.patches.Wedge at 0x7fb4595ed550>,\n",
       "  <matplotlib.patches.Wedge at 0x7fb459ae66d0>,\n",
       "  <matplotlib.patches.Wedge at 0x7fb459fe7350>,\n",
       "  <matplotlib.patches.Wedge at 0x7fb459fe71d0>,\n",
       "  <matplotlib.patches.Wedge at 0x7fb45a21dc10>],\n",
       " [Text(-0.932509,0.583462,'Janeiro'),\n",
       "  Text(-1.08011,0.20825,'Fevereiro'),\n",
       "  Text(-1.06007,-0.293673,'Marco'),\n",
       "  Text(-0.788481,-0.767006,'Abril'),\n",
       "  Text(-0.266944,-1.06712,'Maio'),\n",
       "  Text(0.36137,-1.03895,'Junho'),\n",
       "  Text(0.884657,-0.653744,'Julho'),\n",
       "  Text(1.0999,-0.014839,'Agosto'),\n",
       "  Text(0.909201,0.619156,'Setembro'),\n",
       "  Text(0.426777,1.01384,'Outubro'),\n",
       "  Text(-0.159974,1.08831,'Novembro'),\n",
       "  Text(-0.657171,0.882114,'Dezembro')],\n",
       " [Text(-0.508641,0.318252,'4.4%'),\n",
       "  Text(-0.589149,0.113591,'7.3%'),\n",
       "  Text(-0.578222,-0.160185,'7.4%'),\n",
       "  Text(-0.430081,-0.418367,'8.6%'),\n",
       "  Text(-0.145606,-0.582064,'9.0%'),\n",
       "  Text(0.197111,-0.566699,'9.4%'),\n",
       "  Text(0.48254,-0.356588,'9.7%'),\n",
       "  Text(0.599945,-0.00809402,'10.2%'),\n",
       "  Text(0.495928,0.337722,'9.3%'),\n",
       "  Text(0.232787,0.553001,'9.0%'),\n",
       "  Text(-0.0872587,0.593621,'8.3%'),\n",
       "  Text(-0.358457,0.481153,'7.4%')])"
      ]
     },
     "execution_count": 13,
     "metadata": {},
     "output_type": "execute_result"
    },
    {
     "data": {
      "image/png": "[encoded data removed]",
      "text/plain": [
       "<Figure size 432x288 with 1 Axes>"
      ]
     },
     "metadata": {},
     "output_type": "display_data"
    }
   ],
   "source": [
    "periods_by_month = []\n",
    "# Calculate the crimes on the period month/23-month/31\n",
    "crimes_period = crimes[\"Date\"].dt.day.between(23, 31)\n",
    "crimes_period = crimes_period.where(crimes_period == True).dropna()\n",
    "for i in range(1, 13):\n",
    "    crimes_month = crimes[\"Date\"].dt.month.between(i-1, i)\n",
    "    crimes_month = crimes_month.where(crimes_month == True).dropna()\n",
    "    # Calculate the crimes on each month and make intersection with period\n",
    "    periods_by_month.append(len(crimes_period.index.intersection(crimes_month.index)))\n",
    "labels = ['Janeiro','Fevereiro','Marco','Abril','Maio','Junho','Julho','Agosto','Setembro','Outubro','Novembro','Dezembro']\n",
    "# Plot a pie with the number of crimes on each month in the given period\n",
    "plt.pie(periods_by_month, labels=labels, autopct='%1.1f%%', shadow=True, startangle=140)"
   ]
  },
  {
   "cell_type": "markdown",
   "metadata": {},
   "source": [
    "### Resolução Kaique\n",
    "\n",
    "A aproximação tomada para a questão foi um pouco diferente da anterior no modo em que foi analisada a relação da quantidade de crimes na época de Natal com a de outros feriados específicos. <br>\n",
    "Primeiramente foi feito um agrupamento dos registros em relação à coluna \"Date\" formatada para apenas o mês e o dia, já que a coluna em questão se encontra no formato completo de data-hora. Após isso, foi feita uma contagem de todos os registros que se encaixam nos dias do feriado de Natal e de outros determinados feriados nacionais dos Estados Unidos, como o Dia de Ação de Graças e o Dia da Independência. Para uma melhor visualização, o resultado de todas as contagens foi colocado em um gráfico de barras, onde é possível comparar os valores.<br>\n",
    "O resultado obtido mostra que o feriado de Natal possui mais incidentes reportados que outros feriados, com exceção do feriado de Ano Novo, mas que a diferença entre as quantidades não é tão grande. Além disso, o que mais se destaca no resultado é a enorme quantidade de incidentes reportados no feriado de Ano Novo e a também grande diferença dessa quantidade em comparação com todos os outros feriados analisados, chegando a ser quase o dobro da quantidade do feriado de Natal."
   ]
  },
  {
   "cell_type": "code",
   "execution_count": 16,
   "metadata": {
    "scrolled": true
   },
   "outputs": [
    {
     "data": {
      "image/png": "[encoded data removed]",
      "text/plain": [
       "<matplotlib.figure.Figure at 0x1792ab66f28>"
      ]
     },
     "metadata": {},
     "output_type": "display_data"
    }
   ],
   "source": [
    "crimes['Month and Day'] = crimes['Date'].str[:5]\n",
    "christmas1 = crimes[(crimes['Month and Day'] == '12/24')]\n",
    "christmas2 = crimes[(crimes['Month and Day'] == '12/25')]\n",
    "fourth = crimes[(crimes['Month and Day'] == '07/04')]\n",
    "thanks = crimes[(crimes['Month and Day'] == '11/28')]\n",
    "martin = crimes[(crimes['Month and Day'] == '01/15')]\n",
    "new1 = crimes[(crimes['Month and Day'] == '01/01')]\n",
    "new2 = crimes[(crimes['Month and Day'] == '12/31')]\n",
    "veteran = crimes[(crimes['Month and Day'] == '11/11')]\n",
    "\n",
    "holidays = ('Christmas', 'Thanksgiving Day', 'Veterans Day', 'Independence Day', 'M. Luther King Day', 'New Year')\n",
    "x = np.arange(len(holidays))\n",
    "numbers = [christmas1.shape[0]+christmas2.shape[0], thanks.shape[0], veteran.shape[0], fourth.shape[0], martin.shape[0], new1.shape[0]+new2.shape[0]]\n",
    "plt.barh(x, numbers, align='center', alpha=0.5)\n",
    "plt.yticks(x, holidays)\n",
    "plt.xlabel('Número de incidentes em feriados')\n",
    "plt.show()"
   ]
  },
  {
   "cell_type": "markdown",
   "metadata": {},
   "source": [
    "### Resolução Ricardo\n",
    "\n",
    "Essa pergunta surgiu da seguinte dúvida: há um aumento/diminuição de crimes nos feriados? Para verificar isso, começamos verificando qual a média/mediana de crimes por dia em Chicago. Pegando a coluna '_Date_', normalizando de forma a ignorar o horário e agrupando por dia, temos que a **média de crimes registrados por dia é de 789.5468**, enquanto a **mediana é de 782**.\n",
    "\n",
    "Depois disso, verificamos a mesma coisa para o feriado de Natal. Expandindo a pergunta, verificamos para o Dia de São Patrício, Ação de Graças, Dia de Independência e Ano Novo. Por fim, comparamos os reusltados através de boxplots.\n",
    "\n",
    "Respondendo a pergunta, foi possível verificar que o registro de crimes em Chicago cai "
   ]
  },
  {
   "cell_type": "code",
   "execution_count": 4,
   "metadata": {
    "scrolled": true
   },
   "outputs": [],
   "source": [
    "crimes[\"Date\"] = pd.to_datetime(crimes[\"Date\"])\n",
    "crimes[\"Date\"] = crimes['Date'].dt.floor('d')\n",
    "crimes_by_day = crimes['Date'].groupby([crimes['Year'], crimes['Date'].dt.month, crimes['Date'].dt.day])"
   ]
  },
  {
   "cell_type": "code",
   "execution_count": 5,
   "metadata": {},
   "outputs": [
    {
     "data": {
      "text/plain": [
       "Year  Date  Date  Date      \n",
       "2012  1     1     2012-01-01    1451\n",
       "            2     2012-01-02     700\n",
       "            3     2012-01-03     805\n",
       "            4     2012-01-04     799\n",
       "            5     2012-01-05     871\n",
       "                                ... \n",
       "2017  1     14    2017-01-14     649\n",
       "            15    2017-01-15     600\n",
       "            16    2017-01-16     611\n",
       "            17    2017-01-17     659\n",
       "            18    2017-01-18     655\n",
       "Name: Date, Length: 1845, dtype: int64"
      ]
     },
     "execution_count": 5,
     "metadata": {},
     "output_type": "execute_result"
    }
   ],
   "source": [
    "crimes_by_day.value_counts()"
   ]
  },
  {
   "cell_type": "code",
   "execution_count": 6,
   "metadata": {},
   "outputs": [
    {
     "data": {
      "text/plain": [
       "count    1845.000000\n",
       "mean      789.546883\n",
       "std       122.376604\n",
       "min       363.000000\n",
       "25%       708.000000\n",
       "50%       782.000000\n",
       "75%       868.000000\n",
       "max      1451.000000\n",
       "Name: Date, dtype: float64"
      ]
     },
     "execution_count": 6,
     "metadata": {},
     "output_type": "execute_result"
    }
   ],
   "source": [
    "crimes_by_day.value_counts().describe()"
   ]
  },
  {
   "cell_type": "code",
   "execution_count": 7,
   "metadata": {},
   "outputs": [
    {
     "data": {
      "text/plain": [
       "<matplotlib.axes._subplots.AxesSubplot at 0x7f7fede59c10>"
      ]
     },
     "execution_count": 7,
     "metadata": {},
     "output_type": "execute_result"
    },
    {
     "data": {
      "image/png": "[encoded data removed]",
      "text/plain": [
       "<Figure size 432x288 with 1 Axes>"
      ]
     },
     "metadata": {
      "needs_background": "light"
     },
     "output_type": "display_data"
    }
   ],
   "source": [
    "crimes_by_day.value_counts().plot.box()"
   ]
  },
  {
   "cell_type": "code",
   "execution_count": 9,
   "metadata": {},
   "outputs": [
    {
     "data": {
      "text/plain": [
       "Year  Date      \n",
       "2012  2012-12-25    522\n",
       "2013  2013-12-25    424\n",
       "2014  2014-12-25    438\n",
       "2015  2015-12-25    495\n",
       "2016  2016-12-25    468\n",
       "Name: Date, dtype: int64"
      ]
     },
     "execution_count": 9,
     "metadata": {},
     "output_type": "execute_result"
    }
   ],
   "source": [
    "christmas_crimes_by_year = crimes[(crimes['Date'].dt.month == 12) & (crimes['Date'].dt.day == 25)].groupby('Year')['Date']\n",
    "christmas_crimes_by_year.value_counts()"
   ]
  },
  {
   "cell_type": "code",
   "execution_count": 10,
   "metadata": {},
   "outputs": [
    {
     "data": {
      "text/plain": [
       "count      5.000000\n",
       "mean     469.400000\n",
       "std       40.221885\n",
       "min      424.000000\n",
       "25%      438.000000\n",
       "50%      468.000000\n",
       "75%      495.000000\n",
       "max      522.000000\n",
       "Name: Date, dtype: float64"
      ]
     },
     "execution_count": 10,
     "metadata": {},
     "output_type": "execute_result"
    }
   ],
   "source": [
    "christmas_crimes_by_year.value_counts().describe()"
   ]
  },
  {
   "cell_type": "code",
   "execution_count": 11,
   "metadata": {},
   "outputs": [
    {
     "data": {
      "text/plain": [
       "Year  Date      \n",
       "2012  2012-03-17    1069\n",
       "2013  2013-03-17     771\n",
       "2014  2014-03-17     703\n",
       "2015  2015-03-17     690\n",
       "2016  2016-03-17     732\n",
       "Name: Date, dtype: int64"
      ]
     },
     "execution_count": 11,
     "metadata": {},
     "output_type": "execute_result"
    }
   ],
   "source": [
    "st_patricks_day_crimes_by_year = crimes[(crimes['Date'].dt.month == 3) & (crimes['Date'].dt.day == 17)].groupby('Year')['Date']\n",
    "st_patricks_day_crimes_by_year.value_counts()"
   ]
  },
  {
   "cell_type": "code",
   "execution_count": 12,
   "metadata": {},
   "outputs": [
    {
     "data": {
      "text/plain": [
       "count       5.000000\n",
       "mean      793.000000\n",
       "std       157.392821\n",
       "min       690.000000\n",
       "25%       703.000000\n",
       "50%       732.000000\n",
       "75%       771.000000\n",
       "max      1069.000000\n",
       "Name: Date, dtype: float64"
      ]
     },
     "execution_count": 12,
     "metadata": {},
     "output_type": "execute_result"
    }
   ],
   "source": [
    "st_patricks_day_crimes_by_year.value_counts().describe()"
   ]
  },
  {
   "cell_type": "code",
   "execution_count": 13,
   "metadata": {},
   "outputs": [
    {
     "data": {
      "text/plain": [
       "Year  Date      \n",
       "2012  2012-11-28    858\n",
       "2013  2013-11-28    565\n",
       "2014  2014-11-28    599\n",
       "2015  2015-11-28    657\n",
       "2016  2016-11-28    684\n",
       "Name: Date, dtype: int64"
      ]
     },
     "execution_count": 13,
     "metadata": {},
     "output_type": "execute_result"
    }
   ],
   "source": [
    "thanksgiving_crimes_by_year = crimes[(crimes['Date'].dt.month == 11) & (crimes['Date'].dt.day == 28)].groupby('Year')['Date']\n",
    "thanksgiving_crimes_by_year.value_counts()"
   ]
  },
  {
   "cell_type": "code",
   "execution_count": 14,
   "metadata": {},
   "outputs": [
    {
     "data": {
      "text/plain": [
       "count      5.00000\n",
       "mean     672.60000\n",
       "std      113.73346\n",
       "min      565.00000\n",
       "25%      599.00000\n",
       "50%      657.00000\n",
       "75%      684.00000\n",
       "max      858.00000\n",
       "Name: Date, dtype: float64"
      ]
     },
     "execution_count": 14,
     "metadata": {},
     "output_type": "execute_result"
    }
   ],
   "source": [
    "thanksgiving_crimes_by_year.value_counts().describe()"
   ]
  },
  {
   "cell_type": "code",
   "execution_count": 15,
   "metadata": {},
   "outputs": [
    {
     "data": {
      "text/plain": [
       "Year  Date      \n",
       "2012  2012-07-04    1045\n",
       "2013  2013-07-04     946\n",
       "2014  2014-07-04     838\n",
       "2015  2015-07-04     842\n",
       "2016  2016-07-04     844\n",
       "Name: Date, dtype: int64"
      ]
     },
     "execution_count": 15,
     "metadata": {},
     "output_type": "execute_result"
    }
   ],
   "source": [
    "independence_day_crimes_by_year = crimes[(crimes['Date'].dt.month == 7) & (crimes['Date'].dt.day == 4)].groupby('Year')['Date']\n",
    "independence_day_crimes_by_year.value_counts()"
   ]
  },
  {
   "cell_type": "code",
   "execution_count": 16,
   "metadata": {},
   "outputs": [
    {
     "data": {
      "text/plain": [
       "count       5.000000\n",
       "mean      903.000000\n",
       "std        91.433036\n",
       "min       838.000000\n",
       "25%       842.000000\n",
       "50%       844.000000\n",
       "75%       946.000000\n",
       "max      1045.000000\n",
       "Name: Date, dtype: float64"
      ]
     },
     "execution_count": 16,
     "metadata": {},
     "output_type": "execute_result"
    }
   ],
   "source": [
    "independence_day_crimes_by_year.value_counts().describe()"
   ]
  },
  {
   "cell_type": "code",
   "execution_count": 33,
   "metadata": {},
   "outputs": [
    {
     "data": {
      "text/plain": [
       "Year  Date      \n",
       "2012  2012-01-01    1451\n",
       "2013  2013-01-01    1305\n",
       "2014  2014-01-01    1069\n",
       "2015  2015-01-01    1030\n",
       "2016  2016-01-01     913\n",
       "2017  2017-01-01     753\n",
       "Name: Date, dtype: int64"
      ]
     },
     "execution_count": 33,
     "metadata": {},
     "output_type": "execute_result"
    }
   ],
   "source": [
    "new_year_crimes_by_year = crimes[(crimes['Date'].dt.month == 1) & (crimes['Date'].dt.day == 1)].groupby('Year')['Date']\n",
    "new_year_crimes_by_year.value_counts()"
   ]
  },
  {
   "cell_type": "code",
   "execution_count": 34,
   "metadata": {},
   "outputs": [
    {
     "data": {
      "text/plain": [
       "count       6.000000\n",
       "mean     1086.833333\n",
       "std       255.117555\n",
       "min       753.000000\n",
       "25%       942.250000\n",
       "50%      1049.500000\n",
       "75%      1246.000000\n",
       "max      1451.000000\n",
       "Name: Date, dtype: float64"
      ]
     },
     "execution_count": 34,
     "metadata": {},
     "output_type": "execute_result"
    }
   ],
   "source": [
    "new_year_crimes_by_year.value_counts().describe()"
   ]
  },
  {
   "cell_type": "code",
   "execution_count": 35,
   "metadata": {},
   "outputs": [
    {
     "data": {
      "text/plain": [
       "(array([1, 2, 3, 4, 5, 6]), <a list of 6 Text xticklabel objects>)"
      ]
     },
     "execution_count": 35,
     "metadata": {},
     "output_type": "execute_result"
    },
    {
     "data": {
      "image/png": "[encoded data removed]",
      "text/plain": [
       "<Figure size 432x288 with 1 Axes>"
      ]
     },
     "metadata": {
      "needs_background": "light"
     },
     "output_type": "display_data"
    }
   ],
   "source": [
    "plt.boxplot(\n",
    "    [crimes_by_day.value_counts(),\n",
    "    christmas_crimes_by_year.value_counts(),\n",
    "    st_patricks_day_crimes_by_year.value_counts(),\n",
    "    thanksgiving_crimes_by_year.value_counts(),\n",
    "    independence_day_crimes_by_year.value_counts(),\n",
    "    new_year_crimes_by_year.value_counts()],\n",
    "    labels=['Crimes por dia', 'Natal', 'Dia de São Patrício', 'Dia de Ação de Graças', '4 de Julho', 'Ano Novo'],\n",
    ")\n",
    "plt.xticks(rotation=90)"
   ]
  },
  {
   "cell_type": "markdown",
   "metadata": {},
   "source": [
    "## Questão 3"
   ]
  },
  {
   "cell_type": "markdown",
   "metadata": {},
   "source": [
    "### Resolução Yurick\n",
    "\n",
    "Apesar e parecer uma questão simples, para verificar os crimes mais reportados do dataset foram utilizadas duas abordagens: IUCR code e FBI code. O [Illinois Uniform Crime Reporting](https://data.cityofchicago.org/Public-Safety/Chicago-Police-Department-Illinois-Uniform-Crime-R/c7ck-438e) (IUCR) code consiste em classificar um crime de acordo com os regimes do estado de Illinois. Para isso, encontrou-se uma base de dados, que está anexada, que relaciona os códigos IUCR a uma descrição mais clara. Com isso, foram calculados os dez códigos IUCR com maior quantidade de ocorrências que foram relacionados a sua descrição. Depois disso, foram plotados gráficos de setor e barra para melhor visualização. O código IUCR com maior quantidade de ocorrência é o de roubo de 500 ou menos dólares.\n",
    "\n",
    "Na abordagem por [FBI code](http://gis.chicagopolice.org/clearmap_crime_sums/crime_types.html), não foi possível encontrar um arquivo csv com a relação dos códigos e uma descrição detalhada. Mas o cálculo seguiu da mesma forma, inicialmente a análise dos dez códigos FBI com maior quantidade de ocorrências, e então plotá-los em gráficos de barra e setores. O código mais reportado é 06, cujo significado é furto. O que confirma, de forma genérica, o código IUCR."
   ]
  },
  {
   "cell_type": "code",
   "execution_count": 15,
   "metadata": {},
   "outputs": [
    {
     "name": "stdout",
     "output_type": "stream",
     "text": [
      "IUCR\n",
      "0910     51741\n",
      "0610     53500\n",
      "1811     60557\n",
      "0560     61942\n",
      "1310     71694\n",
      "1320     72515\n",
      "0810     74906\n",
      "0460     88069\n",
      "0486    130700\n",
      "0820    136036\n",
      "dtype: int64\n"
     ]
    }
   ],
   "source": [
    "iucr = crimes.groupby('IUCR').size().sort_values().tail(10)\n",
    "print(iucr)\n",
    "reader = csv.reader(open('Chicago_Police_Department_-_Illinois_Uniform_Crime_Reporting__IUCR__Codes.csv', 'r'))\n",
    "# convert iucr to description\n",
    "d_iucr = {}\n",
    "for row in reader:\n",
    "   d_iucr[row[0]] = [row[1], row[2]]"
   ]
  },
  {
   "cell_type": "code",
   "execution_count": 16,
   "metadata": {},
   "outputs": [
    {
     "name": "stdout",
     "output_type": "stream",
     "text": [
      "0910: MOTOR VEHICLE THEFT - AUTOMOBILE\n",
      "0610: BURGLARY - FORCIBLE ENTRY\n",
      "1811: NARCOTICS - POSS: CANNABIS 30GMS OR LESS\n",
      "0560: ASSAULT - SIMPLE\n",
      "1310: CRIMINAL DAMAGE - TO PROPERTY\n",
      "1320: CRIMINAL DAMAGE - TO VEHICLE\n",
      "0810: THEFT - OVER $500\n",
      "0460: BATTERY - SIMPLE\n",
      "0486: BATTERY - DOMESTIC BATTERY SIMPLE\n",
      "0820: THEFT - $500 AND UNDER\n"
     ]
    }
   ],
   "source": [
    "# For each iucr show a better description\n",
    "for val in iucr.index:\n",
    "    desc = d_iucr[str(int(val))][0] + \" - \" + d_iucr[str(int(val))][1]\n",
    "    print(val + \": \" + desc)"
   ]
  },
  {
   "cell_type": "code",
   "execution_count": 17,
   "metadata": {},
   "outputs": [
    {
     "data": {
      "text/plain": [
       "<BarContainer object of 10 artists>"
      ]
     },
     "execution_count": 17,
     "metadata": {},
     "output_type": "execute_result"
    },
    {
     "data": {
      "image/png": "[encoded data removed]",
      "text/plain": [
       "<Figure size 432x288 with 1 Axes>"
      ]
     },
     "metadata": {
      "needs_background": "light"
     },
     "output_type": "display_data"
    }
   ],
   "source": [
    "# plot bar with iucr\n",
    "plt.bar(iucr.index, iucr.values)"
   ]
  },
  {
   "cell_type": "code",
   "execution_count": 18,
   "metadata": {},
   "outputs": [
    {
     "data": {
      "text/plain": [
       "([<matplotlib.patches.Wedge at 0x7fb4519205d0>,\n",
       "  <matplotlib.patches.Wedge at 0x7fb451920a50>,\n",
       "  <matplotlib.patches.Wedge at 0x7fb45191ce10>,\n",
       "  <matplotlib.patches.Wedge at 0x7fb451913c50>,\n",
       "  <matplotlib.patches.Wedge at 0x7fb451913710>,\n",
       "  <matplotlib.patches.Wedge at 0x7fb458294cd0>,\n",
       "  <matplotlib.patches.Wedge at 0x7fb4582aab10>,\n",
       "  <matplotlib.patches.Wedge at 0x7fb4582aa790>,\n",
       "  <matplotlib.patches.Wedge at 0x7fb44f4d0b10>,\n",
       "  <matplotlib.patches.Wedge at 0x7fb44f4c5c50>],\n",
       " [Text(-0.967774,0.522889,'0910'),\n",
       "  Text(-1.09622,0.0911309,'0610'),\n",
       "  Text(-1.02792,-0.391649,'1811'),\n",
       "  Text(-0.730854,-0.822102,'0560'),\n",
       "  Text(-0.221777,-1.07741,'1310'),\n",
       "  Text(0.389691,-1.02866,'1320'),\n",
       "  Text(0.888216,-0.6489,'0810'),\n",
       "  Text(1.09997,0.00850214,'0460'),\n",
       "  Text(0.713459,0.837243,'0486'),\n",
       "  Text(-0.366378,1.03719,'0820')],\n",
       " [Text(-0.527877,0.285212,'6.5%'),\n",
       "  Text(-0.597937,0.0497078,'6.7%'),\n",
       "  Text(-0.560681,-0.213627,'7.6%'),\n",
       "  Text(-0.398648,-0.448419,'7.7%'),\n",
       "  Text(-0.12097,-0.587679,'8.9%'),\n",
       "  Text(0.212559,-0.561087,'9.0%'),\n",
       "  Text(0.484482,-0.353946,'9.3%'),\n",
       "  Text(0.599982,0.00463753,'11.0%'),\n",
       "  Text(0.389159,0.456678,'16.3%'),\n",
       "  Text(-0.199843,0.565741,'17.0%')])"
      ]
     },
     "execution_count": 18,
     "metadata": {},
     "output_type": "execute_result"
    },
    {
     "data": {
      "image/png": "[encoded data removed]",
      "text/plain": [
       "<Figure size 432x288 with 1 Axes>"
      ]
     },
     "metadata": {},
     "output_type": "display_data"
    }
   ],
   "source": [
    "# Plot pie with iucr\n",
    "plt.pie(iucr, labels=iucr.index, autopct='%1.1f%%', shadow=True, startangle=140)"
   ]
  },
  {
   "cell_type": "code",
   "execution_count": 19,
   "metadata": {},
   "outputs": [
    {
     "name": "stdout",
     "output_type": "stream",
     "text": [
      "FBI Code\n",
      "03      57313\n",
      "07      61138\n",
      "11      66547\n",
      "08A     68076\n",
      "05      83397\n",
      "18     129796\n",
      "26     137597\n",
      "14     155455\n",
      "08B    227082\n",
      "06     329460\n",
      "dtype: int64\n"
     ]
    }
   ],
   "source": [
    "# group by fbi code\n",
    "fbi_code = crimes.groupby('FBI Code').size().sort_values().tail(10)\n",
    "print(fbi_code)"
   ]
  },
  {
   "cell_type": "code",
   "execution_count": 20,
   "metadata": {},
   "outputs": [
    {
     "data": {
      "text/plain": [
       "([<matplotlib.patches.Wedge at 0x7fb44f9b36d0>,\n",
       "  <matplotlib.patches.Wedge at 0x7fb44f9c7b90>,\n",
       "  <matplotlib.patches.Wedge at 0x7fb44f9c7050>,\n",
       "  <matplotlib.patches.Wedge at 0x7fb44f9bb850>,\n",
       "  <matplotlib.patches.Wedge at 0x7fb4503d1f90>,\n",
       "  <matplotlib.patches.Wedge at 0x7fb4503b8bd0>,\n",
       "  <matplotlib.patches.Wedge at 0x7fb4503b8650>,\n",
       "  <matplotlib.patches.Wedge at 0x7fb4503c9090>,\n",
       "  <matplotlib.patches.Wedge at 0x7fb452d67ad0>,\n",
       "  <matplotlib.patches.Wedge at 0x7fb452d67650>],\n",
       " [Text(-0.931221,0.585514,'03'),\n",
       "  Text(-1.05762,0.302404,'07'),\n",
       "  Text(-1.09962,-0.0289782,'11'),\n",
       "  Text(-1.03415,-0.374869,'08A'),\n",
       "  Text(-0.834631,-0.716513,'05'),\n",
       "  Text(-0.379673,-1.0324,'18'),\n",
       "  Text(0.310317,-1.05532,'26'),\n",
       "  Text(0.916991,-0.607558,'14'),\n",
       "  Text(1.0413,0.35452,'08B'),\n",
       "  Text(-0.0945769,1.09593,'06')],\n",
       " [Text(-0.507939,0.319371,'4.4%'),\n",
       "  Text(-0.576882,0.164947,'4.6%'),\n",
       "  Text(-0.599792,-0.0158063,'5.1%'),\n",
       "  Text(-0.564084,-0.204474,'5.2%'),\n",
       "  Text(-0.455253,-0.390825,'6.3%'),\n",
       "  Text(-0.207095,-0.563127,'9.9%'),\n",
       "  Text(0.169264,-0.57563,'10.5%'),\n",
       "  Text(0.500177,-0.331395,'11.8%'),\n",
       "  Text(0.567984,0.193374,'17.3%'),\n",
       "  Text(-0.0515874,0.597778,'25.0%')])"
      ]
     },
     "execution_count": 20,
     "metadata": {},
     "output_type": "execute_result"
    },
    {
     "data": {
      "image/png": "[encoded data removed]",
      "text/plain": [
       "<Figure size 432x288 with 1 Axes>"
      ]
     },
     "metadata": {},
     "output_type": "display_data"
    }
   ],
   "source": [
    "# plot pie with fbi\n",
    "plt.pie(fbi_code, labels=fbi_code.index, autopct='%1.1f%%', shadow=True, startangle=140)"
   ]
  },
  {
   "cell_type": "markdown",
   "metadata": {},
   "source": [
    "### Resolução Kaique\n",
    "\n",
    "Para responder à pergunta, é feita uma contagem dos registros na coluna \"Primary Type\" e dessa contagem total é recuperado o maior número de registros e o valor que possui esse número. Após isso, é relacionado o número obtido com a quantidade total de registros no conjunto de dados para obter a porcentagem. Para visualizar a relação do tipo de crime mais comum com os outros tipos, é possível construir um gráfico de barras com as contagens dos tipos de crime.<br> \n",
    "O resultado mostra que o crime mais comumente reportado é o roubo e que só esse tipo representa vinte e dois por cento do total de incidentes, o que é uma grande parcela. Além disso, é possível visualizar que os crimes de roubo e de agressão são os mais reportados e que possuem uma grande diferença na quantidade em relação aos outros tipos de crimes."
   ]
  },
  {
   "cell_type": "code",
   "execution_count": 17,
   "metadata": {},
   "outputs": [
    {
     "name": "stdout",
     "output_type": "stream",
     "text": [
      "Tipo de crime mais comumente reportado: THEFT\n",
      "Porcentagem desse tipo de crime em relação ao total: 22.61666%\n"
     ]
    }
   ],
   "source": [
    "total = crimes['ID'].count()\n",
    "most_common = crimes['Primary Type'].value_counts().idxmax()\n",
    "print('Tipo de crime mais comumente reportado: ' + most_common)\n",
    "most_common_v = crimes['Primary Type'].value_counts().max()\n",
    "print ('Porcentagem desse tipo de crime em relação ao total: {:.5%}'.format(most_common_v/total))"
   ]
  },
  {
   "cell_type": "code",
   "execution_count": 18,
   "metadata": {},
   "outputs": [
    {
     "data": {
      "text/plain": [
       "<matplotlib.axes._subplots.AxesSubplot at 0x1792d4fef60>"
      ]
     },
     "execution_count": 18,
     "metadata": {},
     "output_type": "execute_result"
    },
    {
     "data": {
      "image/png": "[encoded data removed]",
      "text/plain": [
       "<matplotlib.figure.Figure at 0x1792d4fd400>"
      ]
     },
     "metadata": {},
     "output_type": "display_data"
    }
   ],
   "source": [
    "crimes['Primary Type'].value_counts()[:15].plot(kind='barh', title='Quantidade de incidentes em relação ao tipo de crime')"
   ]
  },
  {
   "cell_type": "markdown",
   "metadata": {},
   "source": [
    "### Resolução Ricardo\n",
    "\n"
   ]
  },
  {
   "cell_type": "code",
   "execution_count": 3,
   "metadata": {},
   "outputs": [
    {
     "data": {
      "text/plain": [
       "THEFT                                329460\n",
       "BATTERY                              263700\n",
       "CRIMINAL DAMAGE                      155455\n",
       "NARCOTICS                            135240\n",
       "ASSAULT                               91289\n",
       "OTHER OFFENSE                         87874\n",
       "BURGLARY                              83397\n",
       "DECEPTIVE PRACTICE                    75495\n",
       "MOTOR VEHICLE THEFT                   61138\n",
       "ROBBERY                               57313\n",
       "CRIMINAL TRESPASS                     36912\n",
       "WEAPONS VIOLATION                     17233\n",
       "PUBLIC PEACE VIOLATION                13122\n",
       "OFFENSE INVOLVING CHILDREN            11398\n",
       "PROSTITUTION                           7633\n",
       "CRIM SEXUAL ASSAULT                    6823\n",
       "INTERFERENCE WITH PUBLIC OFFICER       6195\n",
       "SEX OFFENSE                            4885\n",
       "HOMICIDE                               2649\n",
       "ARSON                                  2217\n",
       "GAMBLING                               2212\n",
       "LIQUOR LAW VIOLATION                   1953\n",
       "KIDNAPPING                             1099\n",
       "STALKING                                828\n",
       "INTIMIDATION                            662\n",
       "OBSCENITY                               187\n",
       "NON-CRIMINAL                             93\n",
       "CONCEALED CARRY LICENSE VIOLATION        90\n",
       "PUBLIC INDECENCY                         62\n",
       "NON - CRIMINAL                           38\n",
       "OTHER NARCOTIC VIOLATION                 30\n",
       "HUMAN TRAFFICKING                        28\n",
       "NON-CRIMINAL (SUBJECT SPECIFIED)          4\n",
       "Name: Primary Type, dtype: int64"
      ]
     },
     "execution_count": 3,
     "metadata": {},
     "output_type": "execute_result"
    }
   ],
   "source": [
    "crimes['Primary Type'].value_counts()"
   ]
  },
  {
   "cell_type": "code",
   "execution_count": 18,
   "metadata": {},
   "outputs": [],
   "source": [
    "theft_crimes = crimes[crimes[\"Primary Type\"] == \"THEFT\"].groupby('Year')['Primary Type'].value_counts()\n",
    "battery_crimes = crimes[crimes[\"Primary Type\"] == \"BATTERY\"].groupby('Year')['Primary Type'].value_counts()\n",
    "criminal_damage_crimes = crimes[crimes[\"Primary Type\"] == \"CRIMINAL DAMAGE\"].groupby('Year')['Primary Type'].value_counts()\n",
    "narcotics_crimes = crimes[crimes[\"Primary Type\"] == \"NARCOTICS\"].groupby('Year')['Primary Type'].value_counts()\n",
    "assault_crimes = crimes[crimes[\"Primary Type\"] == \"ASSAULT\"].groupby('Year')['Primary Type'].value_counts()"
   ]
  },
  {
   "cell_type": "code",
   "execution_count": 20,
   "metadata": {},
   "outputs": [
    {
     "data": {
      "text/plain": [
       "<matplotlib.axes._subplots.AxesSubplot at 0x7f9f7291d610>"
      ]
     },
     "execution_count": 20,
     "metadata": {},
     "output_type": "execute_result"
    },
    {
     "data": {
      "image/png": "[encoded data removed]",
      "text/plain": [
       "<Figure size 720x720 with 1 Axes>"
      ]
     },
     "metadata": {
      "needs_background": "light"
     },
     "output_type": "display_data"
    }
   ],
   "source": [
    "crime_types_df = pd.DataFrame({'THEFT': theft_crimes.values,\n",
    "  'BATTERY': battery_crimes.values,\n",
    "  'CRIMINAL DAMAGE': criminal_damage_crimes.values,\n",
    "  'NARCOTICS': narcotics_crimes.values,\n",
    "  'ASSAULT': assault_crimes.values}, index=[i for i in range(2012, 2018)])\n",
    "crime_types_df.plot.line(figsize=(10,10))"
   ]
  },
  {
   "cell_type": "markdown",
   "metadata": {},
   "source": [
    "## Questão 4"
   ]
  },
  {
   "cell_type": "markdown",
   "metadata": {},
   "source": [
    "### Resolução Yurick\n",
    "\n",
    "Para verificar o ano com maior quantidade de ocorrências no dataset, foram calculadas as quantidades de ocorrências em cada ano. Depois disso, foram geradas informações estatísticas e plotados gráficos de barra e setores, além de um boxplot. Uma observação extra é a pequena quantidade de ocorrências no ano de 2017, em que aparenta haver uma falta de dados desse ano. O ano com mais crimes reportados é 2012, representando 23% (335670), mas não muito longe da média (242785.666667), mesmo com o ano de 2012 alterando o valor da média para menor do que o esperado."
   ]
  },
  {
   "cell_type": "code",
   "execution_count": 21,
   "metadata": {},
   "outputs": [
    {
     "name": "stdout",
     "output_type": "stream",
     "text": [
      "2012    335670\n",
      "2013    306703\n",
      "2014    274527\n",
      "2016    265462\n",
      "2015    262995\n",
      "2017     11357\n",
      "Name: Year, dtype: int64\n"
     ]
    }
   ],
   "source": [
    "# Count the number of incidents on each year\n",
    "crimes_by_year = crimes[\"Year\"].value_counts()\n",
    "print(crimes_by_year)"
   ]
  },
  {
   "cell_type": "code",
   "execution_count": 22,
   "metadata": {},
   "outputs": [
    {
     "data": {
      "text/plain": [
       "<matplotlib.axes._subplots.AxesSubplot at 0x7fb452d56ed0>"
      ]
     },
     "execution_count": 22,
     "metadata": {},
     "output_type": "execute_result"
    },
    {
     "data": {
      "image/png": "[encoded data removed]",
      "text/plain": [
       "<Figure size 432x288 with 1 Axes>"
      ]
     },
     "metadata": {
      "needs_background": "light"
     },
     "output_type": "display_data"
    }
   ],
   "source": [
    "# Plot boxplot with year\n",
    "crimes_by_year.plot.box()"
   ]
  },
  {
   "cell_type": "code",
   "execution_count": 23,
   "metadata": {},
   "outputs": [
    {
     "data": {
      "text/plain": [
       "count         6.000000\n",
       "mean     242785.666667\n",
       "std      116792.378282\n",
       "min       11357.000000\n",
       "25%      263611.750000\n",
       "50%      269994.500000\n",
       "75%      298659.000000\n",
       "max      335670.000000\n",
       "Name: Year, dtype: float64"
      ]
     },
     "execution_count": 23,
     "metadata": {},
     "output_type": "execute_result"
    }
   ],
   "source": [
    "# show statistics data for year field\n",
    "crimes_by_year.describe()"
   ]
  },
  {
   "cell_type": "code",
   "execution_count": 24,
   "metadata": {},
   "outputs": [
    {
     "data": {
      "text/plain": [
       "<BarContainer object of 6 artists>"
      ]
     },
     "execution_count": 24,
     "metadata": {},
     "output_type": "execute_result"
    },
    {
     "data": {
      "image/png": "[encoded data removed]",
      "text/plain": [
       "<Figure size 432x288 with 1 Axes>"
      ]
     },
     "metadata": {
      "needs_background": "light"
     },
     "output_type": "display_data"
    }
   ],
   "source": [
    "# Plot bar with year\n",
    "plt.bar(crimes_by_year.index, crimes_by_year.values)"
   ]
  },
  {
   "cell_type": "code",
   "execution_count": 25,
   "metadata": {},
   "outputs": [
    {
     "data": {
      "text/plain": [
       "([<matplotlib.patches.Wedge at 0x7fb44e7ad3d0>,\n",
       "  <matplotlib.patches.Wedge at 0x7fb44e7ad7d0>,\n",
       "  <matplotlib.patches.Wedge at 0x7fb44e7879d0>,\n",
       "  <matplotlib.patches.Wedge at 0x7fb44e7a05d0>,\n",
       "  <matplotlib.patches.Wedge at 0x7fb44e7a0290>,\n",
       "  <matplotlib.patches.Wedge at 0x7fb44e79e7d0>],\n",
       " [Text(-1.09963,-0.0283595,'2012'),\n",
       "  Text(-0.174871,-1.08601,'2013'),\n",
       "  Text(0.977239,-0.504979,'2014'),\n",
       "  Text(0.850044,0.698158,'2016'),\n",
       "  Text(-0.279062,1.06401,'2015'),\n",
       "  Text(-0.82508,0.727491,'2017')],\n",
       " [Text(-0.599801,-0.0154688,'23.0%'),\n",
       "  Text(-0.0953844,-0.59237,'21.1%'),\n",
       "  Text(0.53304,-0.275443,'18.8%'),\n",
       "  Text(0.46366,0.380814,'18.2%'),\n",
       "  Text(-0.152216,0.580371,'18.1%'),\n",
       "  Text(-0.450044,0.396813,'0.8%')])"
      ]
     },
     "execution_count": 25,
     "metadata": {},
     "output_type": "execute_result"
    },
    {
     "data": {
      "image/png": "[encoded data removed]",
      "text/plain": [
       "<Figure size 432x288 with 1 Axes>"
      ]
     },
     "metadata": {},
     "output_type": "display_data"
    }
   ],
   "source": [
    "# Plot pie with year\n",
    "plt.pie(crimes_by_year, labels=crimes_by_year.index, autopct='%1.1f%%', shadow=True, startangle=140)"
   ]
  },
  {
   "cell_type": "markdown",
   "metadata": {},
   "source": [
    "### Resolução Kaique\n",
    "\n",
    "Para se obter o resultado basta construir um gráfico de barras com as contagens de todos os registros para cada ano.<br>\n",
    "O resultado mostra que parece haver uma pequena e lenta redução no número de incidentes reportados com o passar dos anos, o que pode significar uma redução na taxa de criminalidade. É possível observar também a pequena quantidade de registros do ano de 2017, que se dá pois o conjunto de dados analisado possui apenas registros do começo desse respectivo ano."
   ]
  },
  {
   "cell_type": "code",
   "execution_count": 26,
   "metadata": {},
   "outputs": [
    {
     "data": {
      "text/plain": [
       "<matplotlib.axes._subplots.AxesSubplot at 0x1791640d630>"
      ]
     },
     "execution_count": 26,
     "metadata": {},
     "output_type": "execute_result"
    },
    {
     "data": {
      "image/png": "[encoded data removed]",
      "text/plain": [
       "<matplotlib.figure.Figure at 0x1791640f978>"
      ]
     },
     "metadata": {},
     "output_type": "display_data"
    }
   ],
   "source": [
    "crimes['Year'].value_counts()[:15].plot(kind='bar', title='Quantidade de incidentes em relação ao ano')"
   ]
  },
  {
   "cell_type": "markdown",
   "metadata": {},
   "source": [
    "## Questão 5"
   ]
  },
  {
   "cell_type": "markdown",
   "metadata": {},
   "source": [
    "### Resolução Yurick\n",
    "\n",
    "Como a descrição do dataset menciona, os dados do dataset podem não ter muita confiabilidade. Para responder essa questão, era preciso analisar o campo 'Updated On', porém percebeu-se que ele não possui tanta representatividade. Isso quer dizer que todas as linhas da tabela foram atualizadas em algum momento, e uma atualização em um registro não necessariamente representa que a ocorrência sofreu uma atualização. Por conta disso, o gráfico dos locais de ocorrência de crimes que não tiveram atualização está vazio.\n",
    "\n",
    "Assim, o foco da pergunta foi alterado para descobrir quais as datas que ofertaram maior quantidade de atualizações. O gráfico de barras plotado mostra as datas com maior número de atualizações. Nos dias 04/02/2016 e 17/08/2015 diversos dados tiveram atualização, o que pode indicar algum acerto geral nos dados do dataset. Portanto, os dados perdem sua confiança para análise com respeito a sua data de atualização."
   ]
  },
  {
   "cell_type": "code",
   "execution_count": 26,
   "metadata": {},
   "outputs": [
    {
     "data": {
      "text/plain": [
       "<BarContainer object of 0 artists>"
      ]
     },
     "execution_count": 26,
     "metadata": {},
     "output_type": "execute_result"
    },
    {
     "data": {
      "image/png": "[encoded data removed]",
      "text/plain": [
       "<Figure size 432x288 with 1 Axes>"
      ]
     },
     "metadata": {
      "needs_background": "light"
     },
     "output_type": "display_data"
    }
   ],
   "source": [
    "crimes[\"Updated On\"] = pd.to_datetime(crimes[\"Updated On\"])\n",
    "# check the crimes that were updated\n",
    "crimes[\"Not_updated\"] = np.where((crimes['Date']==crimes['Updated On']),True, False)\n",
    "crimes_local_updated = {}\n",
    "# for updated crimes get its community area\n",
    "for index, crime in crimes.iterrows():\n",
    "    if crime[\"Not_updated\"]:\n",
    "        if crime[\"Community Area\"] not in crimes_local_updated:\n",
    "            crimes_local_updated[crime[\"Community Area\"]] = 0\n",
    "        else:\n",
    "            crimes_local_updated[crime[\"Community Area\"]] += 1\n",
    "# plot bar with community area\n",
    "plt.bar(crimes_local_updated.keys(), crimes_local_updated.values())"
   ]
  },
  {
   "cell_type": "code",
   "execution_count": 27,
   "metadata": {},
   "outputs": [
    {
     "name": "stdout",
     "output_type": "stream",
     "text": [
      "2016-01-15      3630\n",
      "2015-09-30      4432\n",
      "2015-09-24      4982\n",
      "2015-09-17      5046\n",
      "2015-08-31      5285\n",
      "2015-10-09      6468\n",
      "2015-09-10      6847\n",
      "2016-04-15      8471\n",
      "2015-08-17    158320\n",
      "2016-02-04    909108\n",
      "Name: Updated On, dtype: int64\n"
     ]
    }
   ],
   "source": [
    "# get the date when data were updated\n",
    "most_updated = crimes[\"Updated On\"].dt.date.value_counts().sort_values().tail(10)\n",
    "print(most_updated)"
   ]
  },
  {
   "cell_type": "code",
   "execution_count": 28,
   "metadata": {},
   "outputs": [
    {
     "data": {
      "text/plain": [
       "<BarContainer object of 10 artists>"
      ]
     },
     "execution_count": 28,
     "metadata": {},
     "output_type": "execute_result"
    },
    {
     "data": {
      "image/png": "[encoded data removed]",
      "text/plain": [
       "<Figure size 1440x360 with 1 Axes>"
      ]
     },
     "metadata": {
      "needs_background": "light"
     },
     "output_type": "display_data"
    }
   ],
   "source": [
    "# plot bar with date\n",
    "f, ax = plt.subplots(figsize=(20,5))\n",
    "plt.bar(most_updated.index, most_updated.values)"
   ]
  },
  {
   "cell_type": "markdown",
   "metadata": {},
   "source": [
    "## Questão 6"
   ]
  },
  {
   "cell_type": "markdown",
   "metadata": {},
   "source": [
    "### Resolução Yurick\n",
    "\n",
    "Para responder a essa questão, foram calculados a quantidade de ocorrência envolvendo agressão doméstica pelos locais de Chicago divididos por '[Community Area](https://data.cityofchicago.org/Facilities-Geographic-Boundaries/Boundaries-Community-Areas-current-/cauq-8yn6)'. Depois disso, foram plotados os dez locais com maior quantidade de ocorrência envolvendo agrssão doméstica, utilizando gráficos de setor e barra. Depois disso, foram geradas informações estatísticas e plotado um boxplot de todos as Community Areas com ocorrência de crimes envolvendo agressão doméstica. Novamente não foi possível localizar um arquivo csv com o Chicago Community Area. O local com maior quantidade de violência doméstica é a Community Area 25, ou seja, Austin, com 17839 ocorrências. Austin difere muito de Edison Park (Community Area 9), o local com menor incidência de agressão doméstica. Isso também pode ser visto no boxplot, onde Austin é um outlier bem distante do limite superior."
   ]
  },
  {
   "cell_type": "code",
   "execution_count": 29,
   "metadata": {},
   "outputs": [],
   "source": [
    "crimes_local_domestic = {}\n",
    "# for domestic violence crimes get its community area\n",
    "for index, crime in crimes.iterrows():\n",
    "    if crime[\"Domestic\"] and not math.isnan(crime[\"Community Area\"]):\n",
    "        if crime[\"Community Area\"] not in crimes_local_domestic:\n",
    "            crimes_local_domestic[int(crime[\"Community Area\"])] = 0\n",
    "        else:\n",
    "            crimes_local_domestic[int(crime[\"Community Area\"])] += 1"
   ]
  },
  {
   "cell_type": "code",
   "execution_count": 30,
   "metadata": {},
   "outputs": [
    {
     "name": "stdout",
     "output_type": "stream",
     "text": [
      "9       221\n",
      "12      250\n",
      "47      388\n",
      "76      435\n",
      "13      435\n",
      "5       499\n",
      "74      551\n",
      "34      555\n",
      "18      564\n",
      "57      574\n",
      "55      596\n",
      "72      607\n",
      "62      654\n",
      "37      712\n",
      "33      758\n",
      "59      761\n",
      "36      768\n",
      "10      810\n",
      "7       840\n",
      "11      858\n",
      "41      875\n",
      "4       952\n",
      "64      958\n",
      "50      997\n",
      "56     1154\n",
      "52     1240\n",
      "32     1247\n",
      "60     1283\n",
      "45     1321\n",
      "39     1324\n",
      "      ...  \n",
      "8      2239\n",
      "58     2332\n",
      "2      2409\n",
      "15     2592\n",
      "1      2978\n",
      "73     3033\n",
      "40     3170\n",
      "22     3194\n",
      "24     3207\n",
      "38     3435\n",
      "28     4007\n",
      "30     4111\n",
      "42     4147\n",
      "19     4419\n",
      "61     4616\n",
      "53     4764\n",
      "26     4860\n",
      "27     5027\n",
      "46     5732\n",
      "66     6228\n",
      "44     6335\n",
      "49     6941\n",
      "23     7625\n",
      "69     7869\n",
      "68     7936\n",
      "67     8260\n",
      "71     8913\n",
      "29     8924\n",
      "43    10674\n",
      "25    17839\n",
      "Length: 77, dtype: int64\n"
     ]
    }
   ],
   "source": [
    "# convert dict to series\n",
    "crimes_local_domestic_series = pd.Series(crimes_local_domestic).sort_values()\n",
    "print(crimes_local_domestic_series)"
   ]
  },
  {
   "cell_type": "code",
   "execution_count": 31,
   "metadata": {},
   "outputs": [
    {
     "data": {
      "text/plain": [
       "<BarContainer object of 10 artists>"
      ]
     },
     "execution_count": 31,
     "metadata": {},
     "output_type": "execute_result"
    },
    {
     "data": {
      "image/png": "[encoded data removed]",
      "text/plain": [
       "<Figure size 432x288 with 1 Axes>"
      ]
     },
     "metadata": {
      "needs_background": "light"
     },
     "output_type": "display_data"
    }
   ],
   "source": [
    "# plot bar with community area\n",
    "plt.bar(crimes_local_domestic_series.tail(10).index, crimes_local_domestic_series.tail(10).values)"
   ]
  },
  {
   "cell_type": "code",
   "execution_count": 32,
   "metadata": {},
   "outputs": [
    {
     "data": {
      "text/plain": [
       "([<matplotlib.patches.Wedge at 0x7fb450dfb990>,\n",
       "  <matplotlib.patches.Wedge at 0x7fb450e163d0>,\n",
       "  <matplotlib.patches.Wedge at 0x7fb450e16e90>,\n",
       "  <matplotlib.patches.Wedge at 0x7fb450e10990>,\n",
       "  <matplotlib.patches.Wedge at 0x7fb45af69490>,\n",
       "  <matplotlib.patches.Wedge at 0x7fb45af69fd0>,\n",
       "  <matplotlib.patches.Wedge at 0x7fb45af42a90>,\n",
       "  <matplotlib.patches.Wedge at 0x7fb45af64590>,\n",
       "  <matplotlib.patches.Wedge at 0x7fb45af63090>,\n",
       "  <matplotlib.patches.Wedge at 0x7fb45af63b50>],\n",
       " [Text(-0.9756,0.508138,'44'),\n",
       "  Text(-1.0997,0.0257861,'49'),\n",
       "  Text(-0.976871,-0.50569,'23'),\n",
       "  Text(-0.58437,-0.93194,'69'),\n",
       "  Text(-0.017954,-1.09985,'68'),\n",
       "  Text(0.566377,-0.942983,'67'),\n",
       "  Text(0.995645,-0.467645,'71'),\n",
       "  Text(1.08329,0.19103,'29'),\n",
       "  Text(0.726982,0.825528,'43'),\n",
       "  Text(-0.281662,1.06333,'25')],\n",
       " [Text(-0.532146,0.277166,'6.9%'),\n",
       "  Text(-0.599835,0.0140652,'7.6%'),\n",
       "  Text(-0.532839,-0.275831,'8.4%'),\n",
       "  Text(-0.318747,-0.508331,'8.6%'),\n",
       "  Text(-0.00979308,-0.59992,'8.7%'),\n",
       "  Text(0.308933,-0.514354,'9.0%'),\n",
       "  Text(0.543079,-0.255079,'9.8%'),\n",
       "  Text(0.590883,0.104198,'9.8%'),\n",
       "  Text(0.396536,0.450288,'11.7%'),\n",
       "  Text(-0.153634,0.579997,'19.5%')])"
      ]
     },
     "execution_count": 32,
     "metadata": {},
     "output_type": "execute_result"
    },
    {
     "data": {
      "image/png": "[encoded data removed]",
      "text/plain": [
       "<Figure size 432x288 with 1 Axes>"
      ]
     },
     "metadata": {},
     "output_type": "display_data"
    }
   ],
   "source": [
    "# plot pie with community area\n",
    "plt.pie(crimes_local_domestic_series.tail(10), labels=crimes_local_domestic_series.tail(10).index, autopct='%1.1f%%', shadow=True, startangle=140)"
   ]
  },
  {
   "cell_type": "code",
   "execution_count": 33,
   "metadata": {},
   "outputs": [
    {
     "data": {
      "text/plain": [
       "<matplotlib.axes._subplots.AxesSubplot at 0x7fb4554b6650>"
      ]
     },
     "execution_count": 33,
     "metadata": {},
     "output_type": "execute_result"
    },
    {
     "data": {
      "image/png": "[encoded data removed]",
      "text/plain": [
       "<Figure size 432x288 with 1 Axes>"
      ]
     },
     "metadata": {
      "needs_background": "light"
     },
     "output_type": "display_data"
    }
   ],
   "source": [
    "# plot boxplot with community area\n",
    "crimes_local_domestic_series.plot.box()"
   ]
  },
  {
   "cell_type": "code",
   "execution_count": 34,
   "metadata": {},
   "outputs": [
    {
     "data": {
      "text/plain": [
       "count       77.000000\n",
       "mean      2856.818182\n",
       "std       3015.459722\n",
       "min        221.000000\n",
       "25%        858.000000\n",
       "50%       1754.000000\n",
       "75%       4007.000000\n",
       "max      17839.000000\n",
       "dtype: float64"
      ]
     },
     "execution_count": 34,
     "metadata": {},
     "output_type": "execute_result"
    }
   ],
   "source": [
    "# get statistics info about domestic violence\n",
    "crimes_local_domestic_series.describe()"
   ]
  },
  {
   "cell_type": "markdown",
   "metadata": {},
   "source": [
    "## Questão 7"
   ]
  },
  {
   "cell_type": "markdown",
   "metadata": {},
   "source": [
    "### Resolução Kaique\n",
    "\n",
    "Para responder à pergunta, é feita uma contagem dos registros na coluna \"Location Description\" e dessa contagem total é recuperado o maior número de registros e o valor que possui esse número. Após isso, é relacionado o número obtido com a quantidade total de registros no conjunto de dados para obter a porcentagem. Para visualizar a relação do local onde mais occorem crimes com os outros locais, é possível construir um gráfico de barras com as contagens de todos os locais.<br> \n",
    "O resultado mostra que o local onde mais ocorrem incidentes é nas ruas e que só esse tipo representa vinte e dois por cento do total de incidentes, o que é uma grande parcela. Além disso, é possível visualizar que curiosamente o número de incidentes reportados que ocorreram em residências e apartamentos são maiores do que o número de incidentes que ocorreram nas calçadas."
   ]
  },
  {
   "cell_type": "code",
   "execution_count": 20,
   "metadata": {},
   "outputs": [
    {
     "name": "stdout",
     "output_type": "stream",
     "text": [
      "Local com mais crimes reportados: STREET\n",
      "Porcentagem desse local em relação ao total: 22.68606%\n"
     ]
    }
   ],
   "source": [
    "total = crimes['ID'].count()\n",
    "loc_common = crimes['Location Description'].value_counts().idxmax()\n",
    "print('Local com mais crimes reportados: ' + loc_common)\n",
    "loc_common_v = crimes['Location Description'].value_counts().max()\n",
    "print ('Porcentagem desse local em relação ao total: {:.5%}'.format(loc_common_v/total))"
   ]
  },
  {
   "cell_type": "code",
   "execution_count": 21,
   "metadata": {},
   "outputs": [
    {
     "data": {
      "text/plain": [
       "<matplotlib.axes._subplots.AxesSubplot at 0x179163802e8>"
      ]
     },
     "execution_count": 21,
     "metadata": {},
     "output_type": "execute_result"
    },
    {
     "data": {
      "image/png": "[encoded data removed]",
      "text/plain": [
       "<matplotlib.figure.Figure at 0x1791e2c5eb8>"
      ]
     },
     "metadata": {},
     "output_type": "display_data"
    }
   ],
   "source": [
    "crimes['Location Description'].value_counts()[:15].plot(kind='barh', title='Quantidade de incidentes em relação ao local')"
   ]
  },
  {
   "cell_type": "markdown",
   "metadata": {},
   "source": [
    "## Questão 8"
   ]
  },
  {
   "cell_type": "markdown",
   "metadata": {},
   "source": [
    "### Resolução Kaique\n",
    "\n",
    "Para responder à pergunta, é feita uma contagem dos registros na coluna \"District\" e dessa contagem total é recuperado o maior número de registros e o valor que possui esse número. Após isso, é relacionado o número obtido com a quantidade total de registros no conjunto de dados para obter a porcentagem. Para visualizar a relação dos distritos policiais, é possível construir um gráfico de barras com as contagens de todos os locais ou gráfico de pizza.<br> \n",
    "O resultado mostra que o distrito com maior número de incidentes reportados é o distrito 11, com sete por cento do total, e que os incidentes criminosos reportados estão bem distribuídos entre os distritos policiais, com exceção dos distritos 13 e 31, que curiosamente possuem um número extremamente menor que todos os outros distritos, com 1 e 26 incidentes apenas respectivamente."
   ]
  },
  {
   "cell_type": "code",
   "execution_count": 46,
   "metadata": {},
   "outputs": [
    {
     "name": "stdout",
     "output_type": "stream",
     "text": [
      "Distrito policial com mais crimes reportados: 11.0\n",
      "Porcentagem desse distrito em relação ao total: 7.06233%\n"
     ]
    }
   ],
   "source": [
    "total = crimes['ID'].count()\n",
    "dis_common = crimes['District'].value_counts().idxmax()\n",
    "print('Distrito policial com mais crimes reportados: ' + str(dis_common))\n",
    "dis_common_v = crimes['District'].value_counts().max()\n",
    "print ('Porcentagem desse distrito em relação ao total: {:.5%}'.format(dis_common_v/total))"
   ]
  },
  {
   "cell_type": "code",
   "execution_count": 45,
   "metadata": {},
   "outputs": [
    {
     "data": {
      "text/plain": [
       "<matplotlib.axes._subplots.AxesSubplot at 0x17916649c18>"
      ]
     },
     "execution_count": 45,
     "metadata": {},
     "output_type": "execute_result"
    },
    {
     "data": {
      "image/png": "[encoded data removed]",
      "text/plain": [
       "<matplotlib.figure.Figure at 0x17916618358>"
      ]
     },
     "metadata": {},
     "output_type": "display_data"
    }
   ],
   "source": [
    "crimes['District'].value_counts().plot(kind='pie')"
   ]
  },
  {
   "cell_type": "code",
   "execution_count": 43,
   "metadata": {},
   "outputs": [
    {
     "data": {
      "text/plain": [
       "<matplotlib.axes._subplots.AxesSubplot at 0x1791656f128>"
      ]
     },
     "execution_count": 43,
     "metadata": {},
     "output_type": "execute_result"
    },
    {
     "data": {
      "image/png": "[encoded data removed]",
      "text/plain": [
       "<matplotlib.figure.Figure at 0x179165a2048>"
      ]
     },
     "metadata": {},
     "output_type": "display_data"
    }
   ],
   "source": [
    "crimes['District'].value_counts().plot(kind='bar', title='Quantidade de incidentes por distrito policial')"
   ]
  },
  {
   "cell_type": "code",
   "execution_count": 63,
   "metadata": {},
   "outputs": [
    {
     "name": "stdout",
     "output_type": "stream",
     "text": [
      "Quantidade de incidentes no distrito policial 13: 1\n",
      "Quantidade de incidentes no distrito policial 31: 26\n"
     ]
    }
   ],
   "source": [
    "print('Quantidade de incidentes no distrito policial 13: '+str(crimes[crimes['District']==13.0].shape[0]))\n",
    "print('Quantidade de incidentes no distrito policial 31: '+str(crimes[crimes['District']==31.0].shape[0]))"
   ]
  },
  {
   "cell_type": "markdown",
   "metadata": {},
   "source": [
    "## Some examples of analysis/visualizations:"
   ]
  },
  {
   "cell_type": "markdown",
   "metadata": {},
   "source": [
    "1) Present the mean, variance, min, median and max values for each attribute. If the dataset has too many attibutes, choose the more significant ones. Present your code and some remarks to help the understanding."
   ]
  },
  {
   "cell_type": "markdown",
   "metadata": {},
   "source": [
    "2) How well distributed are the dataset in relation the each attribute. How can you visually check that? Hint: plot a histogram"
   ]
  },
  {
   "cell_type": "markdown",
   "metadata": {},
   "source": [
    "3) Is there any attribute that can be used to better interpret the dataset? Show this in a graphic where you used this attribute to group (groupby) the data."
   ]
  },
  {
   "cell_type": "markdown",
   "metadata": {},
   "source": [
    "4) Is there any outlier's pattern? "
   ]
  },
  {
   "cell_type": "markdown",
   "metadata": {},
   "source": [
    "5) Make your own remarks about the dataset. Try to use one or more graphics to justify your remarks."
   ]
  },
  {
   "cell_type": "markdown",
   "metadata": {},
   "source": [
    "6) Is there any symmetry that can be stressed?"
   ]
  },
  {
   "cell_type": "markdown",
   "metadata": {},
   "source": [
    "7) How important was EDA to help you understand the dataset?"
   ]
  }
 ],
 "metadata": {
  "kernelspec": {
   "display_name": "Python 3",
   "language": "python",
   "name": "python3"
  },
  "language_info": {
   "codemirror_mode": {
    "name": "ipython",
    "version": 3
   },
   "file_extension": ".py",
   "mimetype": "text/x-python",
   "name": "python",
   "nbconvert_exporter": "python",
   "pygments_lexer": "ipython3",
   "version": "3.7.4"
  },
  "latex_envs": {
   "LaTeX_envs_menu_present": true,
   "bibliofile": "biblio.bib",
   "cite_by": "apalike",
   "current_citInitial": 1,
   "eqLabelWithNumbers": true,
   "eqNumInitial": 1,
   "hotkeys": {
    "equation": "Ctrl-E",
    "itemize": "Ctrl-I"
   },
   "labels_anchors": false,
   "latex_user_defs": false,
   "report_style_numbering": false,
   "user_envs_cfg": false
  },
  "toc": {
   "colors": {
    "hover_highlight": "#DAA520",
    "running_highlight": "#FF0000",
    "selected_highlight": "#FFD700"
   },
   "moveMenuLeft": true,
   "nav_menu": {
    "height": "134.4px",
    "width": "252px"
   },
   "navigate_menu": true,
   "number_sections": true,
   "sideBar": true,
   "threshold": 4,
   "toc_cell": false,
   "toc_section_display": "block",
   "toc_window_display": false
  }
 },
 "nbformat": 4,
 "nbformat_minor": 2
}
